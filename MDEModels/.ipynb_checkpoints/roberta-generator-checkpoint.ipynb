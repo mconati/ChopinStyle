{
 "cells": [
  {
   "cell_type": "code",
   "execution_count": 113,
   "id": "5d999fe2",
   "metadata": {},
   "outputs": [],
   "source": [
    "from transformers import RobertaConfig, RobertaForMaskedLM, RobertaTokenizerFast, DataCollatorForLanguageModeling\n",
    "from transformers import Trainer, TrainingArguments\n",
    "\n",
    "import torch\n",
    "from torch.utils.data import Dataset\n",
    "from tqdm import tqdm\n",
    "from pathlib import Path\n",
    "import numpy as np\n",
    "from PIL import Image\n",
    "import os"
   ]
  },
  {
   "cell_type": "code",
   "execution_count": 7,
   "id": "15da417c",
   "metadata": {},
   "outputs": [],
   "source": [
    "VOCAB_SIZE = 30000\n",
    "MAX_LEN = 128"
   ]
  },
  {
   "cell_type": "code",
   "execution_count": 3,
   "id": "d39b6fbb",
   "metadata": {},
   "outputs": [],
   "source": [
    "TOKENIZER_SAVEDIR = Path('/home/macosta/ttmp/primus-tokenizer/')\n",
    "LM_MODEL_SAVEDIR = Path('/home/macosta/ttmp/primus-lm-model/')\n",
    "PRIMUS_TXT_FILES = Path('/home/macosta/ttmp/primus-txt/')"
   ]
  },
  {
   "cell_type": "code",
   "execution_count": 60,
   "id": "b0e85caf",
   "metadata": {},
   "outputs": [],
   "source": [
    "model = RobertaForMaskedLM.from_pretrained(str(LM_MODEL_SAVEDIR))"
   ]
  },
  {
   "cell_type": "code",
   "execution_count": 61,
   "id": "be9c9806",
   "metadata": {},
   "outputs": [
    {
     "name": "stderr",
     "output_type": "stream",
     "text": [
      "file /home/macosta/ttmp/primus-tokenizer/config.json not found\n"
     ]
    }
   ],
   "source": [
    "tokenizer = RobertaTokenizerFast.from_pretrained(TOKENIZER_SAVEDIR, max_len=MAX_LEN)"
   ]
  },
  {
   "cell_type": "code",
   "execution_count": 161,
   "id": "a3a96507",
   "metadata": {},
   "outputs": [],
   "source": [
    "inputs = tokenizer(\"<mask>\", return_tensors=\"pt\")"
   ]
  },
  {
   "cell_type": "code",
   "execution_count": 162,
   "id": "268493fd",
   "metadata": {},
   "outputs": [],
   "source": [
    "logits = model(**inputs).logits"
   ]
  },
  {
   "cell_type": "code",
   "execution_count": 170,
   "id": "ef7ff58d",
   "metadata": {},
   "outputs": [
    {
     "data": {
      "text/plain": [
       "5"
      ]
     },
     "execution_count": 170,
     "metadata": {},
     "output_type": "execute_result"
    }
   ],
   "source": [
    "np.argsort(logits.detach().numpy().flatten())[-1]"
   ]
  },
  {
   "cell_type": "code",
   "execution_count": 23,
   "id": "de2abdfe",
   "metadata": {},
   "outputs": [
    {
     "data": {
      "text/plain": [
       "'00000000001110000000000000001110000000000000001110000000000000001110000000000000001110000000000'"
      ]
     },
     "execution_count": 23,
     "metadata": {},
     "output_type": "execute_result"
    }
   ],
   "source": [
    "tokenizer.decode(np.argmax(logits[0,0].detach().numpy()))"
   ]
  },
  {
   "cell_type": "code",
   "execution_count": 144,
   "id": "e6d9301a",
   "metadata": {},
   "outputs": [],
   "source": [
    "def tokens_to_image(tokens):\n",
    "    img_array = np.zeros((len(tokens[0]), len(tokens)), dtype=np.uint8)\n",
    "    for j, column in enumerate(tokens):\n",
    "        for i, char in enumerate(column):\n",
    "            img_array[i, j] = (1-int(char)) * 255\n",
    "    img = Image.fromarray(img_array)\n",
    "    return img"
   ]
  },
  {
   "cell_type": "code",
   "execution_count": 191,
   "id": "dd384350",
   "metadata": {},
   "outputs": [],
   "source": [
    "def continue_image(file, seed_length=100, pred_length=500, max_len=128, show=True, show_original=True, temp=3):\n",
    "    with open(file, 'r') as f:\n",
    "        data = f.read()\n",
    "    tokens = data.split()\n",
    "    index = int(np.random.random()*(len(tokens) - seed_length))\n",
    "    seed = tokens[index:index + seed_length]\n",
    "    if show_original:\n",
    "        tokens_to_image(seed).show()\n",
    "    accum_tokens = seed\n",
    "    for _ in range(pred_length):\n",
    "        input_string = f\"{' '.join(accum_tokens[-(max_len - 1):])} <mask>\"\n",
    "        inputs = tokenizer(input_string, return_tensors=\"pt\")\n",
    "        logits = model(**inputs).logits\n",
    "        sorted_token_indices = np.argsort(logits[0,0].detach().numpy())\n",
    "        best_guess_with_temp_index = int(np.random.random() * temp) + 1\n",
    "        token = tokenizer.decode(sorted_token_indices[-best_guess_with_temp_index])\n",
    "        accum_tokens.append(token)\n",
    "    img = tokens_to_image(accum_tokens)\n",
    "    img.show()\n",
    "    return img"
   ]
  },
  {
   "cell_type": "code",
   "execution_count": 150,
   "id": "13ac3853",
   "metadata": {},
   "outputs": [],
   "source": [
    "files = os.listdir(PRIMUS_TXT_FILES)"
   ]
  },
  {
   "cell_type": "code",
   "execution_count": 196,
   "id": "77e6d424",
   "metadata": {},
   "outputs": [
    {
     "data": {
      "image/png": "[encoded data removed]",
      "text/plain": [
       "<PIL.Image.Image image mode=L size=100x95 at 0x7F043424E950>"
      ]
     },
     "metadata": {},
     "output_type": "display_data"
    },
    {
     "data": {
      "image/png": "[encoded data removed]",
      "text/plain": [
       "<PIL.Image.Image image mode=L size=300x95 at 0x7F040D952190>"
      ]
     },
     "metadata": {},
     "output_type": "display_data"
    }
   ],
   "source": [
    "img = continue_image(PRIMUS_TXT_FILES / str(files[1]), pred_length=200, temp=5)"
   ]
  }
 ],
 "metadata": {
  "kernelspec": {
   "display_name": "Python 3 (ipykernel)",
   "language": "python",
   "name": "python3"
  },
  "language_info": {
   "codemirror_mode": {
    "name": "ipython",
    "version": 3
   },
   "file_extension": ".py",
   "mimetype": "text/x-python",
   "name": "python",
   "nbconvert_exporter": "python",
   "pygments_lexer": "ipython3",
   "version": "3.7.13"
  }
 },
 "nbformat": 4,
 "nbformat_minor": 5
}
