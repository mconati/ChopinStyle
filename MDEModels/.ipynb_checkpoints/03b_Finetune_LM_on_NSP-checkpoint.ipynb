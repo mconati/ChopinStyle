{
 "cells": [
  {
   "cell_type": "code",
   "execution_count": 1,
   "id": "21010efc",
   "metadata": {},
   "outputs": [],
   "source": [
    "!export CUDA_VISIBLE_DEVICES=1"
   ]
  },
  {
   "cell_type": "code",
   "execution_count": 2,
   "id": "0cebebf9",
   "metadata": {
    "scrolled": true
   },
   "outputs": [
    {
     "name": "stderr",
     "output_type": "stream",
     "text": [
      "/home/mconati/ttmp/anaconda3/envs/jukebox/lib/python3.7/site-packages/tqdm/auto.py:22: TqdmWarning: IProgress not found. Please update jupyter and ipywidgets. See https://ipywidgets.readthedocs.io/en/stable/user_install.html\n",
      "  from .autonotebook import tqdm as notebook_tqdm\n"
     ]
    }
   ],
   "source": [
    "#Imports\n",
    "from transformers import BertConfig, BertForMaskedLM, BertPreTrainedModel, BertModel, PreTrainedTokenizerFast, DataCollatorForLanguageModeling, BertPreTrainedModel\n",
    "from transformers import Trainer, TrainingArguments\n",
    "\n",
    "from packaging import version\n",
    "import datasets\n",
    "import torch.nn as nn\n",
    "from tokenizers import Tokenizer\n",
    "import torch\n",
    "from torch.utils.data import Dataset\n",
    "from tqdm import tqdm\n",
    "from pathlib import Path\n",
    "import wandb\n",
    "import time\n",
    "import os\n",
    "from typing import Any, Optional, Tuple, Union\n",
    "from collections import OrderedDict\n",
    "import pandas as pd\n",
    "import pickle\n",
    "\n",
    "from torch.nn import CrossEntropyLoss\n",
    "from calculateMDE import calculateMDE"
   ]
  },
  {
   "cell_type": "code",
   "execution_count": 3,
   "id": "6c1db16e",
   "metadata": {},
   "outputs": [
    {
     "data": {
      "text/plain": [
       "Text(0.5, 1.0, 'Finetuning on NSP')"
      ]
     },
     "execution_count": 3,
     "metadata": {},
     "output_type": "execute_result"
    },
    {
     "data": {
      "image/png": "[encoded data removed]",
      "text/plain": [
       "<Figure size 432x288 with 1 Axes>"
      ]
     },
     "metadata": {
      "needs_background": "light"
     },
     "output_type": "display_data"
    }
   ],
   "source": [
    "nums = [2.421766,\n",
    "1.573948,\n",
    "1.779308,\n",
    "1.348401,\n",
    "0.792499,\n",
    "0.803109,\n",
    "0.953968,\n",
    "0.897713,\n",
    "0.763546,\n",
    "0.691273,\n",
    "0.710557,\n",
    "0.715811,\n",
    "0.699343,\n",
    "0.69281,\n",
    "0.696763,\n",
    "0.718921,\n",
    "0.725978,\n",
    "0.711908,\n",
    "0.693623,\n",
    "0.694722,\n",
    "0.736117,\n",
    "0.773643,\n",
    "0.78013,\n",
    "0.756852,\n",
    "0.720938,\n",
    "0.694158,\n",
    "0.700915,\n",
    "0.723513,\n",
    "0.734817,\n",
    "0.7291,\n",
    "0.712036,\n",
    "0.709632,\n",
    "0.699967]\n",
    "\n",
    "import matplotlib.pyplot as plt\n",
    "plt.plot(nums)\n",
    "plt.xlabel('Step')\n",
    "plt.ylabel('Validation loss')\n",
    "plt.title('Finetuning on NSP')"
   ]
  },
  {
   "cell_type": "code",
   "execution_count": 4,
   "id": "d4c00a11",
   "metadata": {},
   "outputs": [],
   "source": [
    "MDEDir = 'MDE43'"
   ]
  },
  {
   "cell_type": "code",
   "execution_count": 5,
   "id": "ce118044",
   "metadata": {},
   "outputs": [],
   "source": [
    "# a_file = open('/home/mconati/ttmp/styletransfer/NSP/measures.txt', \"r\")\n",
    "\n",
    "# list_of_lines = a_file.readlines()\n",
    "# for idx, line in enumerate(list_of_lines):\n",
    "#     if ',' not in line:\n",
    "#         newline = line.replace(' ', ',')\n",
    "#         list_of_lines[idx] = newline\n",
    "        \n",
    "# print(list_of_lines)\n",
    "\n",
    "# a_file = open('/home/mconati/ttmp/styletransfer/NSP/measures.txt', \"w\")\n",
    "\n",
    "# a_file.writelines(list_of_lines)\n",
    "\n",
    "# a_file.close()"
   ]
  },
  {
   "cell_type": "code",
   "execution_count": 6,
   "id": "f0e615eb",
   "metadata": {},
   "outputs": [],
   "source": [
    "df = pd.read_csv('/home/mconati/ttmp/styletransfer/NSP/measures.txt')"
   ]
  },
  {
   "cell_type": "code",
   "execution_count": 7,
   "id": "aadf80e9",
   "metadata": {},
   "outputs": [],
   "source": [
    "with open('/home/mconati/ttmp/styletransfer/' + MDEDir +'/dict', 'rb') as handle:\n",
    "    hands = pickle.load(handle)"
   ]
  },
  {
   "cell_type": "code",
   "execution_count": 8,
   "id": "7e574adb",
   "metadata": {},
   "outputs": [],
   "source": [
    "# sentence_a = []\n",
    "# sentence_b = []\n",
    "# label = []\n",
    "\n",
    "# for idx, measure in enumerate(df['MEASURE']):\n",
    "#     sentence_a.append(calculateMDE(df['MEASURE'][idx], hands))\n",
    "#     sentence_b.append(calculateMDE(df['NEXT MEASURE'][idx], hands))\n",
    "#     label.append(0)\n",
    "    \n",
    "#     sentence_a.append(calculateMDE(df['MEASURE'][idx], hands))\n",
    "#     sentence_b.append(calculateMDE(df['RANDOM MEASURE'][idx], hands))\n",
    "#     label.append(1)"
   ]
  },
  {
   "cell_type": "code",
   "execution_count": 9,
   "id": "6fa0ae6f",
   "metadata": {
    "scrolled": false
   },
   "outputs": [
    {
     "data": {
      "text/plain": [
       "Index(['MEASURE', 'NEXT MEASURE', 'RANDOM MEASURE'], dtype='object')"
      ]
     },
     "execution_count": 9,
     "metadata": {},
     "output_type": "execute_result"
    }
   ],
   "source": [
    "df['MEASURE'][13]\n",
    "df.keys()"
   ]
  },
  {
   "cell_type": "code",
   "execution_count": 10,
   "id": "942ea8be",
   "metadata": {},
   "outputs": [],
   "source": [
    "# for i in range(100):\n",
    "#     print(label[i])\n",
    "#     print(sentence_a[i] + '\\n---')\n",
    "#     print(sentence_b[i] + '\\n')\n"
   ]
  },
  {
   "cell_type": "markdown",
   "id": "7ab179be",
   "metadata": {},
   "source": [
    "# Setting up MDE BERT\n",
    "The MDE representation consists of 3 things for every note onset in a piece:\n",
    "1. The pitch of the lowest note (a number 1-12 corresponding to A, A#, ....)\n",
    "2. The octave of the lowest note (a number 0-7 corresponding to which octave on the piano)\n",
    "3. The hand configuration (a number 0-136 that maps to a of hand configurations)\n",
    "\n",
    "To feed this information into BERT with standard huggingface components, I am using an intermediate, proxy tokenizer. At each step, the three elements are concatenated with a separation character. For example, a step with pitch 6, octave 2, and hand configuration 12 becomes 6s2s12. With this intermediate step, the sequence is dimension (1, max_seq_len) instead of (3, max_seq_len), so the default huggingface tokenizers, collators, and trainers can be used.\n",
    "\n",
    "Within the modified components, there are 3 separate embedding layers at the encoder and decoder(we effectively have three separate vocabularies). The first step in the encoder is to convert the MDE representation(ie. 6s2s12) back to a separate pitch, octave, hand representation so that it can be passed throgh three separate embedding layers.The outputs of the embedding layers can then be summed so that input to the attention layers has the normal shape (768). The decoder then has to have three separate linear layers to map the hidden state back to pitch, octave, hand.\n",
    "\n",
    "In order to make these changes in huggingface, we need to construct a custom encoder by modifying the BertEmbedding layer, and a custom decoder by modifying the BertLMPredictionHead. We also need to modify the BertForMaskedLM model itself so that the forward function expects three outputs.\n",
    "\n"
   ]
  },
  {
   "cell_type": "markdown",
   "id": "f97d1a14",
   "metadata": {},
   "source": [
    "# Unmodified huggingface functions\n",
    "\n",
    "Many things are used by the three huggingface components we are modifying(embeddings, prediction head, and maskedLM), but not all of them are importable from transformers. So, I had to copy/paste a lot of code from their source github so that the modified code can compile."
   ]
  },
  {
   "cell_type": "code",
   "execution_count": 11,
   "id": "866ae813",
   "metadata": {},
   "outputs": [],
   "source": [
    "from torch import Tensor\n",
    "\n",
    "class GELUActivation(nn.Module):\n",
    "    \"\"\"\n",
    "    Original Implementation of the GELU activation function in Google BERT repo when initially created. For\n",
    "    information: OpenAI GPT's GELU is slightly different (and gives slightly different results): 0.5 * x * (1 +\n",
    "    torch.tanh(math.sqrt(2 / math.pi) * (x + 0.044715 * torch.pow(x, 3)))) This is now written in C in nn.functional\n",
    "    Also see the Gaussian Error Linear Units paper: https://arxiv.org/abs/1606.08415\n",
    "    \"\"\"\n",
    "\n",
    "    def __init__(self, use_gelu_python: bool = False):\n",
    "        super().__init__()\n",
    "        if version.parse(torch.__version__) < version.parse(\"1.4\") or use_gelu_python:\n",
    "            self.act = self._gelu_python\n",
    "        else:\n",
    "            self.act = nn.functional.gelu\n",
    "\n",
    "    def _gelu_python(self, input: Tensor) -> Tensor:\n",
    "        return input * 0.5 * (1.0 + torch.erf(input / math.sqrt(2.0)))\n",
    "\n",
    "    def forward(self, input: Tensor) -> Tensor:\n",
    "        return self.act(input)\n",
    "\n",
    "ACT2FN = {\n",
    "        \"relu\": nn.ReLU(),\n",
    "        \"gelu\": GELUActivation(),\n",
    "        \"tanh\": nn.Tanh(),\n",
    "        \"sigmoid\": nn.Sigmoid(),\n",
    "}\n",
    "\n",
    "class ModelOutput(OrderedDict):\n",
    "    \"\"\"\n",
    "    Base class for all model outputs as dataclass. Has a `__getitem__` that allows indexing by integer or slice (like a\n",
    "    tuple) or strings (like a dictionary) that will ignore the `None` attributes. Otherwise behaves like a regular\n",
    "    python dictionary.\n",
    "    <Tip warning={true}>\n",
    "    You can't unpack a `ModelOutput` directly. Use the [`~utils.ModelOutput.to_tuple`] method to convert it to a tuple\n",
    "    before.\n",
    "    </Tip>\n",
    "    \"\"\"\n",
    "\n",
    "    def __post_init__(self):\n",
    "        class_fields = fields(self)\n",
    "\n",
    "        # Safety and consistency checks\n",
    "        if not len(class_fields):\n",
    "            raise ValueError(f\"{self.__class__.__name__} has no fields.\")\n",
    "        if not all(field.default is None for field in class_fields[1:]):\n",
    "            raise ValueError(f\"{self.__class__.__name__} should not have more than one required field.\")\n",
    "\n",
    "        first_field = getattr(self, class_fields[0].name)\n",
    "        other_fields_are_none = all(getattr(self, field.name) is None for field in class_fields[1:])\n",
    "\n",
    "        if other_fields_are_none and not is_tensor(first_field):\n",
    "            if isinstance(first_field, dict):\n",
    "                iterator = first_field.items()\n",
    "                first_field_iterator = True\n",
    "            else:\n",
    "                try:\n",
    "                    iterator = iter(first_field)\n",
    "                    first_field_iterator = True\n",
    "                except TypeError:\n",
    "                    first_field_iterator = False\n",
    "\n",
    "            # if we provided an iterator as first field and the iterator is a (key, value) iterator\n",
    "            # set the associated fields\n",
    "            if first_field_iterator:\n",
    "                for element in iterator:\n",
    "                    if (\n",
    "                        not isinstance(element, (list, tuple))\n",
    "                        or not len(element) == 2\n",
    "                        or not isinstance(element[0], str)\n",
    "                    ):\n",
    "                        break\n",
    "                    setattr(self, element[0], element[1])\n",
    "                    if element[1] is not None:\n",
    "                        self[element[0]] = element[1]\n",
    "            elif first_field is not None:\n",
    "                self[class_fields[0].name] = first_field\n",
    "        else:\n",
    "            for field in class_fields:\n",
    "                v = getattr(self, field.name)\n",
    "                if v is not None:\n",
    "                    self[field.name] = v\n",
    "\n",
    "    def __delitem__(self, *args, **kwargs):\n",
    "        raise Exception(f\"You cannot use ``__delitem__`` on a {self.__class__.__name__} instance.\")\n",
    "\n",
    "    def setdefault(self, *args, **kwargs):\n",
    "        raise Exception(f\"You cannot use ``setdefault`` on a {self.__class__.__name__} instance.\")\n",
    "\n",
    "    def pop(self, *args, **kwargs):\n",
    "        raise Exception(f\"You cannot use ``pop`` on a {self.__class__.__name__} instance.\")\n",
    "\n",
    "    def update(self, *args, **kwargs):\n",
    "        raise Exception(f\"You cannot use ``update`` on a {self.__class__.__name__} instance.\")\n",
    "\n",
    "    def __getitem__(self, k):\n",
    "        if isinstance(k, str):\n",
    "            inner_dict = {k: v for (k, v) in self.items()}\n",
    "            return inner_dict[k]\n",
    "        else:\n",
    "            return self.to_tuple()[k]\n",
    "\n",
    "    def __setattr__(self, name, value):\n",
    "        if name in self.keys() and value is not None:\n",
    "            # Don't call self.__setitem__ to avoid recursion errors\n",
    "            super().__setitem__(name, value)\n",
    "        super().__setattr__(name, value)\n",
    "\n",
    "    def __setitem__(self, key, value):\n",
    "        # Will raise a KeyException if needed\n",
    "        super().__setitem__(key, value)\n",
    "        # Don't call self.__setattr__ to avoid recursion errors\n",
    "        super().__setattr__(key, value)\n",
    "\n",
    "    def to_tuple(self) -> Tuple[Any]:\n",
    "        \"\"\"\n",
    "        Convert self to a tuple containing all the attributes/keys that are not `None`.\n",
    "        \"\"\"\n",
    "        return tuple(self[k] for k in self.keys())\n",
    "\n",
    "class BertForPreTrainingOutput(ModelOutput):\n",
    "    \"\"\"\n",
    "    Output type of [`BertForPreTraining`].\n",
    "    Args:\n",
    "        loss (*optional*, returned when `labels` is provided, `torch.FloatTensor` of shape `(1,)`):\n",
    "            Total loss as the sum of the masked language modeling loss and the next sequence prediction\n",
    "            (classification) loss.\n",
    "        prediction_logits (`torch.FloatTensor` of shape `(batch_size, sequence_length, config.vocab_size)`):\n",
    "            Prediction scores of the language modeling head (scores for each vocabulary token before SoftMax).\n",
    "        seq_relationship_logits (`torch.FloatTensor` of shape `(batch_size, 2)`):\n",
    "            Prediction scores of the next sequence prediction (classification) head (scores of True/False continuation\n",
    "            before SoftMax).\n",
    "        hidden_states (`tuple(torch.FloatTensor)`, *optional*, returned when `output_hidden_states=True` is passed or when `config.output_hidden_states=True`):\n",
    "            Tuple of `torch.FloatTensor` (one for the output of the embeddings + one for the output of each layer) of\n",
    "            shape `(batch_size, sequence_length, hidden_size)`.\n",
    "            Hidden-states of the model at the output of each layer plus the initial embedding outputs.\n",
    "        attentions (`tuple(torch.FloatTensor)`, *optional*, returned when `output_attentions=True` is passed or when `config.output_attentions=True`):\n",
    "            Tuple of `torch.FloatTensor` (one for each layer) of shape `(batch_size, num_heads, sequence_length,\n",
    "            sequence_length)`.\n",
    "            Attentions weights after the attention softmax, used to compute the weighted average in the self-attention\n",
    "            heads.\n",
    "    \"\"\"\n",
    "\n",
    "    loss: Optional[torch.FloatTensor] = None\n",
    "    prediction_logits: torch.FloatTensor = None\n",
    "    seq_relationship_logits: torch.FloatTensor = None\n",
    "    hidden_states: Optional[Tuple[torch.FloatTensor]] = None\n",
    "    attentions: Optional[Tuple[torch.FloatTensor]] = None\n",
    "\n",
    "class BertPreTrainingHeads(nn.Module):\n",
    "    def __init__(self, config):\n",
    "        super().__init__()\n",
    "        self.predictions = BertLMPredictionHead(config)\n",
    "        self.seq_relationship = nn.Linear(config.hidden_size, 2)\n",
    "\n",
    "    def forward(self, sequence_output, pooled_output):\n",
    "        p1, p2, p3 = self.predictions(sequence_output)\n",
    "        seq_relationship_score = self.seq_relationship(pooled_output)\n",
    "        return p1, p2, p3, seq_relationship_score\n",
    "        return p1, p2, p3\n",
    "    \n",
    "class BertLMPredictionHead(nn.Module):\n",
    "    def __init__(self, config):\n",
    "        super().__init__()\n",
    "        self.transform = BertPredictionHeadTransform(config)\n",
    "\n",
    "        # The output weights are the same as the input embeddings, but there is\n",
    "        # an output-only bias for each token.\n",
    "        \n",
    "        #Three separate linear layers for converting hidden state to outputs\n",
    "        self.decode_pitch = nn.Linear(config.hidden_size, config.numPitches, bias=False)\n",
    "        self.decode_octave = nn.Linear(config.hidden_size, config.numOctaves, bias=False)\n",
    "        self.decode_hand = nn.Linear(config.hidden_size, config.numConfigs, bias=False)\n",
    "        \n",
    "        self.bias_p = nn.Parameter(torch.zeros(config.numPitches))\n",
    "        self.bias_o = nn.Parameter(torch.zeros(config.numOctaves))\n",
    "        self.bias_h = nn.Parameter(torch.zeros(config.numConfigs))\n",
    "\n",
    "\n",
    "        # Need a link between the two variables so that the bias is correctly resized with `resize_token_embeddings`\n",
    "        self.decode_pitch.bias = self.bias_p\n",
    "        self.decode_octave.bias = self.bias_o\n",
    "        self.decode_hand.bias = self.bias_h\n",
    "\n",
    "    def forward(self, hidden_states):\n",
    "        #Pass the hidden state through the three decoder layers\n",
    "        hidden_states = self.transform(hidden_states)\n",
    "        pitch = self.decode_pitch(hidden_states)\n",
    "        octave = self.decode_octave(hidden_states)\n",
    "        hand = self.decode_hand(hidden_states)\n",
    "        return pitch, octave, hand\n",
    "        \n",
    "class BertPredictionHeadTransform(nn.Module):\n",
    "    def __init__(self, config):\n",
    "        super().__init__()\n",
    "        self.dense = nn.Linear(config.hidden_size, config.hidden_size)\n",
    "        if isinstance(config.hidden_act, str):\n",
    "            self.transform_act_fn = ACT2FN[config.hidden_act]\n",
    "        else:\n",
    "            self.transform_act_fn = config.hidden_act\n",
    "        self.LayerNorm = nn.LayerNorm(config.hidden_size, eps=config.layer_norm_eps)\n",
    "\n",
    "    def forward(self, hidden_states: torch.Tensor) -> torch.Tensor:\n",
    "        hidden_states = self.dense(hidden_states)\n",
    "        hidden_states = self.transform_act_fn(hidden_states)\n",
    "        hidden_states = self.LayerNorm(hidden_states)\n",
    "        return hidden_states\n",
    "\n",
    "    "
   ]
  },
  {
   "cell_type": "markdown",
   "id": "0971ba06",
   "metadata": {},
   "source": [
    "# Modified huggingface code\n",
    "\n",
    "Here are the three elements that I modified from Huggingface. Modified elements are commented\n",
    "\n",
    "Modified MaskedLM, the forward function is changed to calculate loss."
   ]
  },
  {
   "cell_type": "code",
   "execution_count": 12,
   "id": "10f60215",
   "metadata": {},
   "outputs": [],
   "source": [
    "class BertForPreTraining(BertPreTrainedModel):\n",
    "    def __init__(self, config):\n",
    "        super().__init__(config)\n",
    "\n",
    "        self.bert = BertModel(config)\n",
    "        self.cls = BertPreTrainingHeads(config)\n",
    "\n",
    "        # Initialize weights and apply final processing\n",
    "        self.post_init()\n",
    "        self.decoder = {value:key for key, value in config.decoder.items()}\n",
    "        self.maskToken = config.decoder['[MASK]']\n",
    "        self.unkToken = config.decoder['[UNK]']\n",
    "        self.sepToken = config.decoder['[SEP]']\n",
    "        self.padToken = config.decoder['[PAD]']\n",
    "        self.clsToken = config.decoder['[CLS]']\n",
    "        self.specialTokens = [self.maskToken, self.unkToken, self.sepToken, self.padToken, self.clsToken]\n",
    "\n",
    "    def set_output_embeddings(self, new_embeddings):\n",
    "        self.cls.predictions.decoder = new_embeddings\n",
    "\n",
    "\n",
    "    def forward(\n",
    "        self,\n",
    "        input_ids: Optional[torch.Tensor] = None,\n",
    "        attention_mask: Optional[torch.Tensor] = None,\n",
    "        token_type_ids: Optional[torch.Tensor] = None,\n",
    "        position_ids: Optional[torch.Tensor] = None,\n",
    "        head_mask: Optional[torch.Tensor] = None,\n",
    "        inputs_embeds: Optional[torch.Tensor] = None,\n",
    "        labels: Optional[torch.Tensor] = None,\n",
    "        next_sentence_label: Optional[torch.Tensor] = None,\n",
    "        output_attentions: Optional[bool] = None,\n",
    "        output_hidden_states: Optional[bool] = None,\n",
    "        return_dict: Optional[bool] = None,\n",
    "    ) -> Union[Tuple[torch.Tensor], BertForPreTrainingOutput]:\n",
    "        r\"\"\"\n",
    "            labels (`torch.LongTensor` of shape `(batch_size, sequence_length)`, *optional*):\n",
    "                Labels for computing the masked language modeling loss. Indices should be in `[-100, 0, ...,\n",
    "                config.vocab_size]` (see `input_ids` docstring) Tokens with indices set to `-100` are ignored (masked),\n",
    "                the loss is only computed for the tokens with labels in `[0, ..., config.vocab_size]`\n",
    "            next_sentence_label (`torch.LongTensor` of shape `(batch_size,)`, *optional*):\n",
    "                Labels for computing the next sequence prediction (classification) loss. Input should be a sequence\n",
    "                pair (see `input_ids` docstring) Indices should be in `[0, 1]`:\n",
    "                - 0 indicates sequence B is a continuation of sequence A,\n",
    "                - 1 indicates sequence B is a random sequence.\n",
    "            kwargs (`Dict[str, any]`, optional, defaults to *{}*):\n",
    "                Used to hide legacy arguments that have been deprecated.\n",
    "        Returns:\n",
    "        Example:\n",
    "        ```python\n",
    "        >>> from transformers import BertTokenizer, BertForPreTraining\n",
    "        >>> import torch\n",
    "        >>> tokenizer = BertTokenizer.from_pretrained(\"bert-base-uncased\")\n",
    "        >>> model = BertForPreTraining.from_pretrained(\"bert-base-uncased\")\n",
    "        >>> inputs = tokenizer(\"Hello, my dog is cute\", return_tensors=\"pt\")\n",
    "        >>> outputs = model(**inputs)\n",
    "        >>> prediction_logits = outputs.prediction_logits\n",
    "        >>> seq_relationship_logits = outputs.seq_relationship_logits\n",
    "        ```\n",
    "        \"\"\"\n",
    "        return_dict = return_dict if return_dict is not None else self.config.use_return_dict\n",
    "\n",
    "        outputs = self.bert(\n",
    "            input_ids,\n",
    "            attention_mask=attention_mask,\n",
    "            token_type_ids=token_type_ids,\n",
    "            position_ids=position_ids,\n",
    "            head_mask=head_mask,\n",
    "            inputs_embeds=inputs_embeds,\n",
    "            output_attentions=output_attentions,\n",
    "            output_hidden_states=output_hidden_states,\n",
    "            return_dict=return_dict,\n",
    "        )\n",
    "\n",
    "        sequence_output, pooled_output = outputs[:2]\n",
    "        pitch_p, octave_p, hand_p, seq_relationship_score = self.cls(sequence_output, pooled_output)\n",
    "        \n",
    "        masked_lm_loss = None\n",
    "        \n",
    "\n",
    "        loss_fct = CrossEntropyLoss()  # -100 index = padding token\n",
    "            \n",
    "        total_loss = 0# masked_lm_loss\n",
    "        if next_sentence_label is not None:\n",
    "            next_sentence_loss = loss_fct(seq_relationship_score.view(-1, 2), next_sentence_label.view(-1))\n",
    "            total_loss = next_sentence_loss# + masked_lm_loss\n",
    "            \n",
    "\n",
    "            \n",
    "\n",
    "        if not return_dict:\n",
    "            output = (prediction_scores, seq_relationship_score) + outputs[2:]\n",
    "            return ((total_loss,) + output) if total_loss is not None else output\n",
    "\n",
    "        return BertForPreTrainingOutput(\n",
    "            loss=total_loss,\n",
    "            prediction_logits=[pitch_p, octave_p, hand_p],\n",
    "            seq_relationship_logits=seq_relationship_score,\n",
    "            hidden_states=outputs.hidden_states,\n",
    "            attentions=outputs.attentions,\n",
    "        )\n",
    "\n"
   ]
  },
  {
   "cell_type": "markdown",
   "id": "a8342322",
   "metadata": {},
   "source": [
    "### Custom encoder"
   ]
  },
  {
   "cell_type": "code",
   "execution_count": 13,
   "id": "f1ddd944",
   "metadata": {},
   "outputs": [],
   "source": [
    "class CustomBertEmbeddings(nn.Module):\n",
    "    \"\"\"Construct the embeddings from octave, pitch, hand configuration, and position.\"\"\"\n",
    "\n",
    "    def __init__(self, config):\n",
    "        super().__init__()\n",
    "        #Get the mapping from token to encoded representation\n",
    "        self.decoder = {value:key for key, value in config.decoder.items()}\n",
    "        \n",
    "        #Aggregate special tokens\n",
    "        self.maskToken = config.decoder['[MASK]']\n",
    "        self.unkToken = config.decoder['[UNK]']\n",
    "        self.sepToken = config.decoder['[SEP]']\n",
    "        self.padToken = config.decoder['[PAD]']\n",
    "        self.clsToken = config.decoder['[CLS]']\n",
    "        self.specialTokens = [self.maskToken, self.unkToken, self.sepToken, self.padToken, self.clsToken]\n",
    "        \n",
    "        #Declare embedding layers\n",
    "        self.position_embeddings = nn.Embedding(config.max_position_embeddings, config.hidden_size)\n",
    "        self.pitch_embeddings = nn.Embedding(config.numPitches, config.hidden_size)\n",
    "        self.handConfig_embeddings = nn.Embedding(config.numConfigs, config.hidden_size)\n",
    "        self.octave_embeddings = nn.Embedding(config.numOctaves, config.hidden_size)\n",
    "\n",
    "        # self.LayerNorm is not snake-cased to stick with TensorFlow model variable name and be able to load\n",
    "        # any TensorFlow checkpoint file\n",
    "        self.LayerNorm = nn.LayerNorm(config.hidden_size, eps=config.layer_norm_eps)\n",
    "        self.dropout = nn.Dropout(config.hidden_dropout_prob)\n",
    "        # position_ids (1, len position emb) is contiguous in memory and exported when serialized\n",
    "        self.position_embedding_type = getattr(config, \"position_embedding_type\", \"absolute\")\n",
    "        self.register_buffer(\"position_ids\", torch.arange(config.max_position_embeddings).expand((1, -1)))\n",
    "        if version.parse(torch.__version__) > version.parse(\"1.6.0\"):\n",
    "            self.register_buffer(\n",
    "                \"token_type_ids\",\n",
    "                torch.zeros(self.position_ids.size(), dtype=torch.long),\n",
    "                persistent=False,\n",
    "            )\n",
    "\n",
    "    def forward(\n",
    "        self, input_ids=None, token_type_ids=None, position_ids=None, inputs_embeds=None, past_key_values_length=0\n",
    "    ):\n",
    "        #Custom code to use 3 embedding layers\n",
    "        #Convert the tokenized MDE representation ie 9s2s55 to pitch=9 octave=2 hand=55 for all tokens in the batch\n",
    "        octaves = []\n",
    "        pitches = []\n",
    "        handConfs = []\n",
    "        #Iterate through the batch\n",
    "        for x in input_ids:\n",
    "            #For each sequence, make a list to store the octave, pitch, and handConf ids\n",
    "            octave = []\n",
    "            pitch = []\n",
    "            handConf = []\n",
    "            #Iterate through the sequence\n",
    "            for y in x:\n",
    "                #If the token is not a special token, decode into the octave_pitch_handConf representation\n",
    "                if y.item() not in self.specialTokens:\n",
    "                    #Split on s\n",
    "                    try:\n",
    "                        code = [int(x) for x in self.decoder[y.item()].split('s')]\n",
    "                    except:\n",
    "                        code = [x for x in self.decoder[y.item()].split('s')]\n",
    "                        print(code)\n",
    "                    #Add each element to the correct list\n",
    "                    octave.append(code[0])\n",
    "                    pitch.append(code[1])\n",
    "                    handConf.append(code[2])\n",
    "                else:\n",
    "                    #Otherwise, make a representation from the special token. ie: a cls token(1) becomes 1_1_1\n",
    "                    octave.append(y.item())\n",
    "                    pitch.append(y.item())\n",
    "                    handConf.append(y.item())\n",
    "            #Aggregate the samples in the batch\n",
    "            octaves.append(octave)\n",
    "            pitches.append(pitch)\n",
    "            handConfs.append(handConf)\n",
    "            \n",
    "        device = input_ids.device if input_ids is not None else inputs_embeds.device\n",
    "        \n",
    "        #Convert the lists to tensors and put them on the gpu\n",
    "        octTensor = torch.LongTensor(octaves).to(device)\n",
    "        pitchTensor = torch.LongTensor(pitches).to(device)\n",
    "        handConfTensor = torch.LongTensor(handConfs).to(device)\n",
    "        \n",
    "        #Sum the three embeddings\n",
    "        input_embeds = self.handConfig_embeddings(handConfTensor)\\\n",
    "                       +self.octave_embeddings(octTensor)\\\n",
    "                       +self.pitch_embeddings(pitchTensor)\n",
    "        embeddings = input_embeds\n",
    "\n",
    "        #Standard BertEmbeddings code\n",
    "        if input_ids is not None:\n",
    "            input_shape = input_ids.size()\n",
    "        else:\n",
    "            input_shape = inputs_embeds.size()[:-1]\n",
    "\n",
    "        seq_length = input_shape[1]\n",
    "        \n",
    "        if position_ids is None:\n",
    "            position_ids = torch.arange(seq_length, dtype=torch.long, device=device)\n",
    "            position_ids = position_ids.unsqueeze(0).expand(input_shape)\n",
    "        position_embeddings = self.position_embeddings(position_ids)\n",
    "        embeddings += position_embeddings\n",
    "        embeddings = self.LayerNorm(embeddings)\n",
    "        embeddings = self.dropout(embeddings)\n",
    "        return embeddings"
   ]
  },
  {
   "cell_type": "markdown",
   "id": "9531c633",
   "metadata": {},
   "source": [
    "### Custom Configuration\n",
    "\n",
    "In order for the encoder and MaskedLM to access the dictionary between MDE representation and tokens, we need to pass that in the model's config"
   ]
  },
  {
   "cell_type": "markdown",
   "id": "f72855cd",
   "metadata": {},
   "source": [
    "# THIS MUST BE CHANGED FOR DIFFERENT DATASETS. THE numCONFIGS COMES FROM CREATING THE HANDCONIG DICTIONARY"
   ]
  },
  {
   "cell_type": "code",
   "execution_count": 14,
   "id": "94d4a130",
   "metadata": {},
   "outputs": [],
   "source": [
    "class CustomBertConfig(BertConfig):\n",
    "    def __init__(self,**kwargs):\n",
    "        super().__init__(**kwargs)\n",
    "        #The decoder holds the conversion back to the coded representation for the customEmbeddings layer\n",
    "        self.decoder = kwargs.get('decoder')\n",
    "        self.numOctaves = 9\n",
    "        #110 for Chopin43\n",
    "        #720 for Maestro\n",
    "        #136 for ChopinAndHannds\n",
    "        self.numConfigs = 110\n",
    "        self.numPitches = 12"
   ]
  },
  {
   "cell_type": "markdown",
   "id": "57c5f7a8",
   "metadata": {},
   "source": [
    "# (Mostly) standard huggingface code"
   ]
  },
  {
   "cell_type": "code",
   "execution_count": 15,
   "id": "b724a5a0",
   "metadata": {
    "scrolled": false
   },
   "outputs": [
    {
     "name": "stderr",
     "output_type": "stream",
     "text": [
      "Failed to detect the name of this notebook, you can set it manually with the WANDB_NOTEBOOK_NAME environment variable to enable code saving.\n",
      "\u001b[34m\u001b[1mwandb\u001b[0m: Currently logged in as: \u001b[33mmconati\u001b[0m (use `wandb login --relogin` to force relogin)\n"
     ]
    },
    {
     "data": {
      "text/plain": [
       "True"
      ]
     },
     "execution_count": 15,
     "metadata": {},
     "output_type": "execute_result"
    }
   ],
   "source": [
    "wandb.login()\n",
    "#1dd35d404a289e1e49f18069e4fe0a51d28d52c7"
   ]
  },
  {
   "cell_type": "code",
   "execution_count": 16,
   "id": "12121ccc",
   "metadata": {},
   "outputs": [],
   "source": [
    "device = 'cuda:1'"
   ]
  },
  {
   "cell_type": "code",
   "execution_count": 17,
   "id": "186a8fd4",
   "metadata": {},
   "outputs": [],
   "source": [
    "#Load the tokenizer\n",
    "TOKENIZER_SAVEDIR = Path('/home/mconati/ttmp/styletransfer/' + MDEDir + '/tokenizer')\n",
    "LM_MODEL_SAVEDIR = Path('/home/mconati/ttmp/styletransfer/' + MDEDir + '/model')\n",
    "Path(LM_MODEL_SAVEDIR).mkdir(exist_ok=True)"
   ]
  },
  {
   "cell_type": "code",
   "execution_count": 18,
   "id": "59931978",
   "metadata": {},
   "outputs": [],
   "source": [
    "PRIMUS_TXT_FILES = Path('/home/mconati/ttmp/styletransfer/' + MDEDir + '/text')"
   ]
  },
  {
   "cell_type": "code",
   "execution_count": 19,
   "id": "d2343163",
   "metadata": {},
   "outputs": [
    {
     "data": {
      "text/plain": [
       "[<torch.cuda.device at 0x7f5577d1cc50>, <torch.cuda.device at 0x7f5577d1cf90>]"
      ]
     },
     "execution_count": 19,
     "metadata": {},
     "output_type": "execute_result"
    }
   ],
   "source": [
    "[torch.cuda.device(i) for i in range(torch.cuda.device_count())]"
   ]
  },
  {
   "cell_type": "code",
   "execution_count": 20,
   "id": "91d546d1",
   "metadata": {},
   "outputs": [
    {
     "name": "stdout",
     "output_type": "stream",
     "text": [
      "Cuda available:  True\n"
     ]
    }
   ],
   "source": [
    "print('Cuda available: ', torch.cuda.is_available())"
   ]
  },
  {
   "cell_type": "code",
   "execution_count": 21,
   "id": "12795a0c",
   "metadata": {},
   "outputs": [],
   "source": [
    "VOCAB_SIZE = 30000\n",
    "MAX_LEN = 128\n",
    "MASKING_PROPORTION = 0.15\n",
    "TXT_LOCATION = Path('/home/mconati/ttmp/styletransfer/' + MDEDir + '/full')\n",
    "files = [str(TXT_LOCATION / path) for path in os.listdir(TXT_LOCATION)]"
   ]
  },
  {
   "cell_type": "code",
   "execution_count": 22,
   "id": "cb0eb1c4",
   "metadata": {},
   "outputs": [],
   "source": [
    "import numpy as np\n",
    "import matplotlib.pyplot as plt\n",
    "\n",
    "def makeVocab(MDEDir, threshold = 5):\n",
    "    tpath = '/home/mconati/ttmp/styletransfer/' + MDEDir + '/full/' + \"MDE.txt\"\n",
    "    my_file = open(tpath, \"r\")\n",
    "\n",
    "    # reading the file\n",
    "    data = my_file.read()\n",
    "\n",
    "    # replacing end of line('/n') with ' ' and\n",
    "    # splitting the text it further when '.' is seen.\n",
    "    data = np.array(data.replace('\\n', '').split(\" \"))[:-1]\n",
    "    print(data)\n",
    "\n",
    "    u,counts = np.unique(data, return_counts=True)\n",
    "    pairs = sorted(zip(counts,u), reverse=True)\n",
    "    counts, u = zip(*pairs)\n",
    "    \n",
    "    plt.plot(sorted(counts, reverse=True))\n",
    "    plt.title(\"Vocab\")\n",
    "    plt.ylabel(\"Frequency\")\n",
    "    plt.xlabel(\"Token number\")\n",
    "    \n",
    "    threshold = threshold\n",
    "    for idx, c in enumerate(counts):\n",
    "        if c < threshold:\n",
    "            break\n",
    "    vocab_size = idx\n",
    "\n",
    "    vocab = {}\n",
    "    vocab['[UNK]'] = 0\n",
    "    vocab['[CLS]'] = 1\n",
    "    vocab['[SEP]'] = 2\n",
    "    vocab['[PAD]'] = 3\n",
    "    vocab['[MASK]'] = 4\n",
    "    token_offset = 5\n",
    "    for i,qanon in enumerate(u):\n",
    "        if i > vocab_size:\n",
    "            break\n",
    "        vocab[qanon] = token_offset + i \n",
    "    return vocab"
   ]
  },
  {
   "cell_type": "code",
   "execution_count": 23,
   "id": "edc29fef",
   "metadata": {},
   "outputs": [],
   "source": [
    "import tokenizer_utils\n",
    "import pickle"
   ]
  },
  {
   "cell_type": "code",
   "execution_count": 24,
   "id": "9eeef641",
   "metadata": {},
   "outputs": [
    {
     "name": "stdout",
     "output_type": "stream",
     "text": [
      "['1s10s1' '3s5s2' '3s5s2' ... '2s8s1' '3s3s1' '3s11s1']\n"
     ]
    },
    {
     "data": {
      "image/png": "[encoded data removed]",
      "text/plain": [
       "<Figure size 432x288 with 1 Axes>"
      ]
     },
     "metadata": {
      "needs_background": "light"
     },
     "output_type": "display_data"
    }
   ],
   "source": [
    "vocab = makeVocab(MDEDir, 0)\n",
    "tokenizer = tokenizer_utils.BertTokenizer(vocab)\n",
    "\n",
    "tokenizer_dir = TOKENIZER_SAVEDIR\n",
    "tokenizer.save_pretrained(tokenizer_dir)\n",
    "with open(f'{tokenizer_dir}/vocab.pkl','wb') as f:\n",
    "    pickle.dump(vocab,f)"
   ]
  },
  {
   "cell_type": "code",
   "execution_count": 25,
   "id": "d7cb9af4",
   "metadata": {},
   "outputs": [],
   "source": [
    "# sentence_a = []\n",
    "# sentence_b = []\n",
    "# label = []\n",
    "\n",
    "# for idx, measure in enumerate(df['MEASURE']):\n",
    "#     sentence_a.append(calculateMDE(df['MEASURE'][idx], hands))\n",
    "#     sentence_b.append(calculateMDE(df['NEXT MEASURE'][idx], hands))\n",
    "#     label.append(0)\n",
    "    \n",
    "#     sentence_a.append(calculateMDE(df['MEASURE'][idx], hands))\n",
    "#     sentence_b.append(calculateMDE(df['RANDOM MEASURE'][idx], hands))\n",
    "#     label.append(1)\n",
    "\n",
    "# inputs = tokenizer(sentence_a, sentence_b, return_tensors='pt', max_length=64, truncation=True, padding='max_length')\n",
    "# inputs['labels'] = torch.LongTensor([label]).T\n",
    "# with open ('inputs.pickle', 'wb') as handle:\n",
    "#     pickle.dump(inputs, handle, protocol=pickle.HIGHEST_PROTOCOL)"
   ]
  },
  {
   "cell_type": "code",
   "execution_count": 26,
   "id": "d96ec067",
   "metadata": {
    "scrolled": true
   },
   "outputs": [
    {
     "data": {
      "text/plain": [
       "{'input_ids': tensor([[   1,  267,  312,  ...,    3,    3,    3],\n",
       "        [   1,  267,  312,  ...,    3,    3,    3],\n",
       "        [   1,  501,  547,  ...,    3,    3,    3],\n",
       "        ...,\n",
       "        [   1,   50,   29,  ...,    3,    3,    3],\n",
       "        [   1,   44, 1719,  ...,    3,    3,    3],\n",
       "        [   1,   44, 1719,  ...,    3,    3,    3]]), 'token_type_ids': tensor([[0, 0, 0,  ..., 0, 0, 0],\n",
       "        [0, 0, 0,  ..., 0, 0, 0],\n",
       "        [0, 0, 0,  ..., 0, 0, 0],\n",
       "        ...,\n",
       "        [0, 0, 0,  ..., 0, 0, 0],\n",
       "        [0, 0, 0,  ..., 0, 0, 0],\n",
       "        [0, 0, 0,  ..., 0, 0, 0]]), 'attention_mask': tensor([[1, 1, 1,  ..., 0, 0, 0],\n",
       "        [1, 1, 1,  ..., 0, 0, 0],\n",
       "        [1, 1, 1,  ..., 0, 0, 0],\n",
       "        ...,\n",
       "        [1, 1, 1,  ..., 0, 0, 0],\n",
       "        [1, 1, 1,  ..., 0, 0, 0],\n",
       "        [1, 1, 1,  ..., 0, 0, 0]]), 'labels': tensor([[0],\n",
       "        [1],\n",
       "        [0],\n",
       "        ...,\n",
       "        [1],\n",
       "        [0],\n",
       "        [1]])}"
      ]
     },
     "execution_count": 26,
     "metadata": {},
     "output_type": "execute_result"
    }
   ],
   "source": [
    "with open('inputs.pickle', 'rb') as handle:\n",
    "    inputs = pickle.load(handle)\n",
    "inputs"
   ]
  },
  {
   "cell_type": "code",
   "execution_count": 27,
   "id": "2794e1da",
   "metadata": {},
   "outputs": [
    {
     "data": {
      "text/plain": [
       "tensor([[0],\n",
       "        [1],\n",
       "        [0],\n",
       "        [1],\n",
       "        [0],\n",
       "        [1],\n",
       "        [0],\n",
       "        [1],\n",
       "        [0],\n",
       "        [1]])"
      ]
     },
     "execution_count": 27,
     "metadata": {},
     "output_type": "execute_result"
    }
   ],
   "source": [
    "inputs.labels[:10]"
   ]
  },
  {
   "cell_type": "code",
   "execution_count": 28,
   "id": "36fb3f4d",
   "metadata": {},
   "outputs": [],
   "source": [
    "class NSPDataset(torch.utils.data.Dataset):\n",
    "    def __init__(self, encodings):\n",
    "        self.encodings = encodings\n",
    "    def __getitem__(self, idx):\n",
    "        returnee = {key: torch.tensor(val[idx]) for key, val in self.encodings.items()}\n",
    "        returnee['next_sentence_label'] = returnee.pop('labels')\n",
    "        return returnee\n",
    "    def __len__(self):\n",
    "        return len(self.encodings.input_ids)\n"
   ]
  },
  {
   "cell_type": "code",
   "execution_count": 29,
   "id": "22bd83ea",
   "metadata": {},
   "outputs": [
    {
     "name": "stderr",
     "output_type": "stream",
     "text": [
      "/home/mconati/ttmp/anaconda3/envs/jukebox/lib/python3.7/site-packages/ipykernel_launcher.py:5: UserWarning: To copy construct from a tensor, it is recommended to use sourceTensor.clone().detach() or sourceTensor.clone().detach().requires_grad_(True), rather than torch.tensor(sourceTensor).\n",
      "  \"\"\"\n"
     ]
    },
    {
     "data": {
      "text/plain": [
       "{'input_ids': tensor([  1, 267, 312, 267, 312,   2, 267, 312, 267, 312,   2,   3,   3,   3,\n",
       "           3,   3,   3,   3,   3,   3,   3,   3,   3,   3,   3,   3,   3,   3,\n",
       "           3,   3,   3,   3,   3,   3,   3,   3,   3,   3,   3,   3,   3,   3,\n",
       "           3,   3,   3,   3,   3,   3,   3,   3,   3,   3,   3,   3,   3,   3,\n",
       "           3,   3,   3,   3,   3,   3,   3,   3]),\n",
       " 'token_type_ids': tensor([0, 0, 0, 0, 0, 0, 1, 1, 1, 1, 1, 0, 0, 0, 0, 0, 0, 0, 0, 0, 0, 0, 0, 0,\n",
       "         0, 0, 0, 0, 0, 0, 0, 0, 0, 0, 0, 0, 0, 0, 0, 0, 0, 0, 0, 0, 0, 0, 0, 0,\n",
       "         0, 0, 0, 0, 0, 0, 0, 0, 0, 0, 0, 0, 0, 0, 0, 0]),\n",
       " 'attention_mask': tensor([1, 1, 1, 1, 1, 1, 1, 1, 1, 1, 1, 0, 0, 0, 0, 0, 0, 0, 0, 0, 0, 0, 0, 0,\n",
       "         0, 0, 0, 0, 0, 0, 0, 0, 0, 0, 0, 0, 0, 0, 0, 0, 0, 0, 0, 0, 0, 0, 0, 0,\n",
       "         0, 0, 0, 0, 0, 0, 0, 0, 0, 0, 0, 0, 0, 0, 0, 0]),\n",
       " 'next_sentence_label': tensor([0])}"
      ]
     },
     "execution_count": 29,
     "metadata": {},
     "output_type": "execute_result"
    }
   ],
   "source": [
    "dataset = NSPDataset(inputs)\n",
    "dataset[0]"
   ]
  },
  {
   "cell_type": "code",
   "execution_count": 30,
   "id": "07d35903",
   "metadata": {},
   "outputs": [],
   "source": [
    "#BERT training code basically copied from the Huggingface Esperanto Tutorial from here on out\n",
    "data_collator = DataCollatorForLanguageModeling(\n",
    "    tokenizer=tokenizer, mlm=True, mlm_probability=0.15\n",
    ")"
   ]
  },
  {
   "cell_type": "code",
   "execution_count": 31,
   "id": "97806405",
   "metadata": {
    "scrolled": true
   },
   "outputs": [
    {
     "data": {
      "text/plain": [
       "1996"
      ]
     },
     "execution_count": 31,
     "metadata": {},
     "output_type": "execute_result"
    }
   ],
   "source": [
    "config = CustomBertConfig(\n",
    "    #The decoder holds the conversion back to the coded representation for the customEmbeddings layer\n",
    "    decoder = tokenizer.vocab,\n",
    "    vocab_size=len(vocab),\n",
    ")\n",
    "len(vocab)"
   ]
  },
  {
   "cell_type": "code",
   "execution_count": 32,
   "id": "4004d2de",
   "metadata": {},
   "outputs": [
    {
     "name": "stdout",
     "output_type": "stream",
     "text": [
      "Num parameters: 88268677\n",
      "Num parameters: 86834821\n"
     ]
    }
   ],
   "source": [
    "#Create a standard BERT model\n",
    "model = BertForPreTraining(config=config)\n",
    "#device = model.device\n",
    "print('Num parameters:', model.num_parameters())\n",
    "\n",
    "\n",
    "#Create a custom embedding class\n",
    "temp = CustomBertEmbeddings(config).to(device)\n",
    "#Replace the model's embedding layer\n",
    "model.bert.embeddings = temp\n",
    "\n",
    "\n",
    "model = model.to(device)\n",
    "\n",
    "#As a sanity check, make sure that the custom embedding layers exist\n",
    "model.bert.embeddings.handConfig_embeddings.weight\n",
    "print('Num parameters:', model.num_parameters())"
   ]
  },
  {
   "cell_type": "code",
   "execution_count": 34,
   "id": "8510482e",
   "metadata": {},
   "outputs": [],
   "source": [
    "training_args = TrainingArguments(\n",
    "    output_dir=LM_MODEL_SAVEDIR,\n",
    "    overwrite_output_dir=True,\n",
    "    num_train_epochs=2500,\n",
    "    per_device_train_batch_size=1,\n",
    "    save_steps=100,\n",
    "    logging_steps=1,\n",
    "    evaluation_strategy=\"steps\",\n",
    "    eval_steps=1,\n",
    "    save_total_limit=1,\n",
    "    prediction_loss_only=False,\n",
    "    report_to=\"wandb\"\n",
    ")"
   ]
  },
  {
   "cell_type": "code",
   "execution_count": 35,
   "id": "2217609a",
   "metadata": {},
   "outputs": [],
   "source": [
    "\n",
    "#decoder = {value:key for key, value in tokenizer.vocab.items()}# vals = []\n",
    "# for x in train_dataset:\n",
    "#     for y in x['input_ids']:\n",
    "#         if y>4:\n",
    "#             code = [int(x) for x in decoder[y].split('s')]\n",
    "#             if code[0] not in vals:\n",
    "#                 vals.append(code[0])\n",
    "            \n",
    "# vals\n",
    "# lowest = 8\n",
    "# octave = int(np.floor((lowest+21)/12)-2)+1\n",
    "# octave"
   ]
  },
  {
   "cell_type": "code",
   "execution_count": 36,
   "id": "fc77d142",
   "metadata": {
    "scrolled": true
   },
   "outputs": [
    {
     "data": {
      "text/plain": [
       "TrainingArguments(\n",
       "_n_gpu=2,\n",
       "adafactor=False,\n",
       "adam_beta1=0.9,\n",
       "adam_beta2=0.999,\n",
       "adam_epsilon=1e-08,\n",
       "bf16=False,\n",
       "bf16_full_eval=False,\n",
       "dataloader_drop_last=False,\n",
       "dataloader_num_workers=0,\n",
       "dataloader_pin_memory=True,\n",
       "ddp_bucket_cap_mb=None,\n",
       "ddp_find_unused_parameters=None,\n",
       "debug=[],\n",
       "deepspeed=None,\n",
       "disable_tqdm=False,\n",
       "do_eval=True,\n",
       "do_predict=False,\n",
       "do_train=False,\n",
       "eval_accumulation_steps=None,\n",
       "eval_steps=1,\n",
       "evaluation_strategy=IntervalStrategy.STEPS,\n",
       "fp16=False,\n",
       "fp16_backend=auto,\n",
       "fp16_full_eval=False,\n",
       "fp16_opt_level=O1,\n",
       "gradient_accumulation_steps=1,\n",
       "gradient_checkpointing=False,\n",
       "greater_is_better=None,\n",
       "group_by_length=False,\n",
       "half_precision_backend=auto,\n",
       "hub_model_id=None,\n",
       "hub_strategy=HubStrategy.EVERY_SAVE,\n",
       "hub_token=<HUB_TOKEN>,\n",
       "ignore_data_skip=False,\n",
       "label_names=None,\n",
       "label_smoothing_factor=0.0,\n",
       "learning_rate=5e-05,\n",
       "length_column_name=length,\n",
       "load_best_model_at_end=False,\n",
       "local_rank=-1,\n",
       "log_level=-1,\n",
       "log_level_replica=-1,\n",
       "log_on_each_node=True,\n",
       "logging_dir=/home/mconati/ttmp/styletransfer/MDE43/model/runs/May02_18-03-43_mirlab6,\n",
       "logging_first_step=False,\n",
       "logging_nan_inf_filter=True,\n",
       "logging_steps=1,\n",
       "logging_strategy=IntervalStrategy.STEPS,\n",
       "lr_scheduler_type=SchedulerType.LINEAR,\n",
       "max_grad_norm=1.0,\n",
       "max_steps=-1,\n",
       "metric_for_best_model=None,\n",
       "mp_parameters=,\n",
       "no_cuda=False,\n",
       "num_train_epochs=2500,\n",
       "optim=OptimizerNames.ADAMW_HF,\n",
       "output_dir=/home/mconati/ttmp/styletransfer/MDE43/model,\n",
       "overwrite_output_dir=True,\n",
       "past_index=-1,\n",
       "per_device_eval_batch_size=8,\n",
       "per_device_train_batch_size=1,\n",
       "prediction_loss_only=False,\n",
       "push_to_hub=False,\n",
       "push_to_hub_model_id=None,\n",
       "push_to_hub_organization=None,\n",
       "push_to_hub_token=<PUSH_TO_HUB_TOKEN>,\n",
       "remove_unused_columns=True,\n",
       "report_to=['wandb'],\n",
       "resume_from_checkpoint=None,\n",
       "run_name=/home/mconati/ttmp/styletransfer/MDE43/model,\n",
       "save_on_each_node=False,\n",
       "save_steps=100,\n",
       "save_strategy=IntervalStrategy.STEPS,\n",
       "save_total_limit=1,\n",
       "seed=42,\n",
       "sharded_ddp=[],\n",
       "skip_memory_metrics=True,\n",
       "tf32=None,\n",
       "tpu_metrics_debug=False,\n",
       "tpu_num_cores=None,\n",
       "use_legacy_prediction_loop=False,\n",
       "warmup_ratio=0.0,\n",
       "warmup_steps=0,\n",
       "weight_decay=0.0,\n",
       "xpu_backend=None,\n",
       ")"
      ]
     },
     "execution_count": 36,
     "metadata": {},
     "output_type": "execute_result"
    }
   ],
   "source": [
    "trainer = Trainer(\n",
    "    model=model,\n",
    "    args=training_args,\n",
    "    data_collator=data_collator,\n",
    "    train_dataset=dataset,\n",
    "    eval_dataset=dataset,\n",
    ")\n",
    "trainer.args"
   ]
  },
  {
   "cell_type": "markdown",
   "id": "709c7aab",
   "metadata": {},
   "source": [
    "As a sanity check, look that the custom embeddings change by printing before and after training embeddings"
   ]
  },
  {
   "cell_type": "code",
   "execution_count": 37,
   "id": "314ca529",
   "metadata": {
    "scrolled": true
   },
   "outputs": [
    {
     "data": {
      "text/plain": [
       "Parameter containing:\n",
       "tensor([[-1.1064, -0.7647,  0.0339,  ..., -0.1522,  0.5903, -0.0106],\n",
       "        [-0.1488, -0.8130,  2.1130,  ...,  2.0736,  0.2725, -0.1713],\n",
       "        [ 1.6889, -1.0059,  1.2381,  ..., -0.8915,  0.5835, -1.2289],\n",
       "        ...,\n",
       "        [ 0.1398, -0.2654,  0.3361,  ..., -0.8270,  0.5778, -0.7332],\n",
       "        [-1.1946,  1.0559, -1.0921,  ..., -0.9514,  0.3790,  1.4064],\n",
       "        [ 0.8194,  1.8508,  0.7484,  ..., -1.6917,  0.1525,  1.2034]],\n",
       "       device='cuda:0', requires_grad=True)"
      ]
     },
     "execution_count": 37,
     "metadata": {},
     "output_type": "execute_result"
    }
   ],
   "source": [
    "beforeTrainingHCEmbedding = model.bert.embeddings.handConfig_embeddings.weight\n",
    "beforeTrainingHCEmbedding"
   ]
  },
  {
   "cell_type": "code",
   "execution_count": 38,
   "id": "92fb7f68",
   "metadata": {
    "scrolled": true
   },
   "outputs": [
    {
     "name": "stdout",
     "output_type": "stream",
     "text": [
      "Num parameters: 88268677\n"
     ]
    }
   ],
   "source": [
    "loadModel = True\n",
    "BEST_MODEL_SAVEDIR = '/home/mconati/ttmp/styletransfer/' + MDEDir + '/MDE43best/model'\n",
    "\n",
    "if loadModel:\n",
    "    #Load a pretrained BERT model\n",
    "    model = BertForPreTraining(config=config)\n",
    "    print('Num parameters:', model.num_parameters())\n",
    "\n",
    "    #Create a custom embedding class\n",
    "    temp = CustomBertEmbeddings(config)\n",
    "    #Replace the model's embedding layer\n",
    "    model.bert.embeddings = temp\n",
    "\n",
    "    mdict = torch.load(BEST_MODEL_SAVEDIR + '/pytorch_model.bin')\n",
    "\n",
    "    model.load_state_dict(mdict, strict = False)\n"
   ]
  },
  {
   "cell_type": "code",
   "execution_count": 39,
   "id": "3e0efaf1",
   "metadata": {
    "scrolled": false
   },
   "outputs": [
    {
     "name": "stderr",
     "output_type": "stream",
     "text": [
      "/home/mconati/ttmp/anaconda3/envs/jukebox/lib/python3.7/site-packages/transformers/optimization.py:309: FutureWarning: This implementation of AdamW is deprecated and will be removed in a future version. Use the PyTorch implementation torch.optim.AdamW instead, or set `no_deprecation_warning=True` to disable this warning\n",
      "  FutureWarning,\n",
      "***** Running training *****\n",
      "  Num examples = 1612\n",
      "  Num Epochs = 2500\n",
      "  Instantaneous batch size per device = 1\n",
      "  Total train batch size (w. parallel, distributed & accumulation) = 2\n",
      "  Gradient Accumulation steps = 1\n",
      "  Total optimization steps = 2015000\n",
      "Automatic Weights & Biases logging enabled, to disable set os.environ[\"WANDB_DISABLED\"] = \"true\"\n"
     ]
    },
    {
     "data": {
      "text/html": [
       "wandb version 0.12.15 is available!  To upgrade, please run:\n",
       " $ pip install wandb --upgrade"
      ],
      "text/plain": [
       "<IPython.core.display.HTML object>"
      ]
     },
     "metadata": {},
     "output_type": "display_data"
    },
    {
     "data": {
      "text/html": [
       "Tracking run with wandb version 0.12.11"
      ],
      "text/plain": [
       "<IPython.core.display.HTML object>"
      ]
     },
     "metadata": {},
     "output_type": "display_data"
    },
    {
     "data": {
      "text/html": [
       "Run data is saved locally in <code>/mnt/data0/mconati/styletransfer/BERT/wandb/run-20220502_180351-4spxstvd</code>"
      ],
      "text/plain": [
       "<IPython.core.display.HTML object>"
      ]
     },
     "metadata": {},
     "output_type": "display_data"
    },
    {
     "data": {
      "text/html": [
       "Syncing run <strong><a href=\"https://wandb.ai/mconati/huggingface/runs/4spxstvd\" target=\"_blank\">/home/mconati/ttmp/styletransfer/MDE43/model</a></strong> to <a href=\"https://wandb.ai/mconati/huggingface\" target=\"_blank\">Weights & Biases</a> (<a href=\"https://wandb.me/run\" target=\"_blank\">docs</a>)<br/>"
      ],
      "text/plain": [
       "<IPython.core.display.HTML object>"
      ]
     },
     "metadata": {},
     "output_type": "display_data"
    },
    {
     "name": "stderr",
     "output_type": "stream",
     "text": [
      "/home/mconati/ttmp/anaconda3/envs/jukebox/lib/python3.7/site-packages/ipykernel_launcher.py:5: UserWarning: To copy construct from a tensor, it is recommended to use sourceTensor.clone().detach() or sourceTensor.clone().detach().requires_grad_(True), rather than torch.tensor(sourceTensor).\n",
      "  \"\"\"\n",
      "/home/mconati/ttmp/anaconda3/envs/jukebox/lib/python3.7/site-packages/torch/nn/parallel/_functions.py:68: UserWarning: Was asked to gather along dimension 0, but all input tensors were scalars; will instead unsqueeze and return a vector.\n",
      "  warnings.warn('Was asked to gather along dimension 0, but all '\n"
     ]
    },
    {
     "ename": "RuntimeError",
     "evalue": "CUDA out of memory. Tried to allocate 20.00 MiB (GPU 0; 23.70 GiB total capacity; 1.36 GiB already allocated; 5.44 MiB free; 1.51 GiB reserved in total by PyTorch) If reserved memory is >> allocated memory try setting max_split_size_mb to avoid fragmentation.  See documentation for Memory Management and PYTORCH_CUDA_ALLOC_CONF",
     "output_type": "error",
     "traceback": [
      "\u001b[0;31m---------------------------------------------------------------------------\u001b[0m",
      "\u001b[0;31mRuntimeError\u001b[0m                              Traceback (most recent call last)",
      "\u001b[0;32m/tmp/ipykernel_3310430/4032920361.py\u001b[0m in \u001b[0;36m<module>\u001b[0;34m\u001b[0m\n\u001b[0;32m----> 1\u001b[0;31m \u001b[0mtrainer\u001b[0m\u001b[0;34m.\u001b[0m\u001b[0mtrain\u001b[0m\u001b[0;34m(\u001b[0m\u001b[0;34m)\u001b[0m\u001b[0;34m\u001b[0m\u001b[0;34m\u001b[0m\u001b[0m\n\u001b[0m",
      "\u001b[0;32m~/ttmp/anaconda3/envs/jukebox/lib/python3.7/site-packages/transformers/trainer.py\u001b[0m in \u001b[0;36mtrain\u001b[0;34m(self, resume_from_checkpoint, trial, ignore_keys_for_eval, **kwargs)\u001b[0m\n\u001b[1;32m   1463\u001b[0m                         \u001b[0moptimizer_was_run\u001b[0m \u001b[0;34m=\u001b[0m \u001b[0mscale_before\u001b[0m \u001b[0;34m<=\u001b[0m \u001b[0mscale_after\u001b[0m\u001b[0;34m\u001b[0m\u001b[0;34m\u001b[0m\u001b[0m\n\u001b[1;32m   1464\u001b[0m                     \u001b[0;32melse\u001b[0m\u001b[0;34m:\u001b[0m\u001b[0;34m\u001b[0m\u001b[0;34m\u001b[0m\u001b[0m\n\u001b[0;32m-> 1465\u001b[0;31m                         \u001b[0mself\u001b[0m\u001b[0;34m.\u001b[0m\u001b[0moptimizer\u001b[0m\u001b[0;34m.\u001b[0m\u001b[0mstep\u001b[0m\u001b[0;34m(\u001b[0m\u001b[0;34m)\u001b[0m\u001b[0;34m\u001b[0m\u001b[0;34m\u001b[0m\u001b[0m\n\u001b[0m\u001b[1;32m   1466\u001b[0m \u001b[0;34m\u001b[0m\u001b[0m\n\u001b[1;32m   1467\u001b[0m                     \u001b[0;32mif\u001b[0m \u001b[0moptimizer_was_run\u001b[0m \u001b[0;32mand\u001b[0m \u001b[0;32mnot\u001b[0m \u001b[0mself\u001b[0m\u001b[0;34m.\u001b[0m\u001b[0mdeepspeed\u001b[0m\u001b[0;34m:\u001b[0m\u001b[0;34m\u001b[0m\u001b[0;34m\u001b[0m\u001b[0m\n",
      "\u001b[0;32m~/ttmp/anaconda3/envs/jukebox/lib/python3.7/site-packages/torch/optim/lr_scheduler.py\u001b[0m in \u001b[0;36mwrapper\u001b[0;34m(*args, **kwargs)\u001b[0m\n\u001b[1;32m     63\u001b[0m                 \u001b[0minstance\u001b[0m\u001b[0;34m.\u001b[0m\u001b[0m_step_count\u001b[0m \u001b[0;34m+=\u001b[0m \u001b[0;36m1\u001b[0m\u001b[0;34m\u001b[0m\u001b[0;34m\u001b[0m\u001b[0m\n\u001b[1;32m     64\u001b[0m                 \u001b[0mwrapped\u001b[0m \u001b[0;34m=\u001b[0m \u001b[0mfunc\u001b[0m\u001b[0;34m.\u001b[0m\u001b[0m__get__\u001b[0m\u001b[0;34m(\u001b[0m\u001b[0minstance\u001b[0m\u001b[0;34m,\u001b[0m \u001b[0mcls\u001b[0m\u001b[0;34m)\u001b[0m\u001b[0;34m\u001b[0m\u001b[0;34m\u001b[0m\u001b[0m\n\u001b[0;32m---> 65\u001b[0;31m                 \u001b[0;32mreturn\u001b[0m \u001b[0mwrapped\u001b[0m\u001b[0;34m(\u001b[0m\u001b[0;34m*\u001b[0m\u001b[0margs\u001b[0m\u001b[0;34m,\u001b[0m \u001b[0;34m**\u001b[0m\u001b[0mkwargs\u001b[0m\u001b[0;34m)\u001b[0m\u001b[0;34m\u001b[0m\u001b[0;34m\u001b[0m\u001b[0m\n\u001b[0m\u001b[1;32m     66\u001b[0m \u001b[0;34m\u001b[0m\u001b[0m\n\u001b[1;32m     67\u001b[0m             \u001b[0;31m# Note that the returned function here is no longer a bound method,\u001b[0m\u001b[0;34m\u001b[0m\u001b[0;34m\u001b[0m\u001b[0;34m\u001b[0m\u001b[0m\n",
      "\u001b[0;32m~/ttmp/anaconda3/envs/jukebox/lib/python3.7/site-packages/torch/optim/optimizer.py\u001b[0m in \u001b[0;36mwrapper\u001b[0;34m(*args, **kwargs)\u001b[0m\n\u001b[1;32m     86\u001b[0m                 \u001b[0mprofile_name\u001b[0m \u001b[0;34m=\u001b[0m \u001b[0;34m\"Optimizer.step#{}.step\"\u001b[0m\u001b[0;34m.\u001b[0m\u001b[0mformat\u001b[0m\u001b[0;34m(\u001b[0m\u001b[0mobj\u001b[0m\u001b[0;34m.\u001b[0m\u001b[0m__class__\u001b[0m\u001b[0;34m.\u001b[0m\u001b[0m__name__\u001b[0m\u001b[0;34m)\u001b[0m\u001b[0;34m\u001b[0m\u001b[0;34m\u001b[0m\u001b[0m\n\u001b[1;32m     87\u001b[0m                 \u001b[0;32mwith\u001b[0m \u001b[0mtorch\u001b[0m\u001b[0;34m.\u001b[0m\u001b[0mautograd\u001b[0m\u001b[0;34m.\u001b[0m\u001b[0mprofiler\u001b[0m\u001b[0;34m.\u001b[0m\u001b[0mrecord_function\u001b[0m\u001b[0;34m(\u001b[0m\u001b[0mprofile_name\u001b[0m\u001b[0;34m)\u001b[0m\u001b[0;34m:\u001b[0m\u001b[0;34m\u001b[0m\u001b[0;34m\u001b[0m\u001b[0m\n\u001b[0;32m---> 88\u001b[0;31m                     \u001b[0;32mreturn\u001b[0m \u001b[0mfunc\u001b[0m\u001b[0;34m(\u001b[0m\u001b[0;34m*\u001b[0m\u001b[0margs\u001b[0m\u001b[0;34m,\u001b[0m \u001b[0;34m**\u001b[0m\u001b[0mkwargs\u001b[0m\u001b[0;34m)\u001b[0m\u001b[0;34m\u001b[0m\u001b[0;34m\u001b[0m\u001b[0m\n\u001b[0m\u001b[1;32m     89\u001b[0m             \u001b[0;32mreturn\u001b[0m \u001b[0mwrapper\u001b[0m\u001b[0;34m\u001b[0m\u001b[0;34m\u001b[0m\u001b[0m\n\u001b[1;32m     90\u001b[0m \u001b[0;34m\u001b[0m\u001b[0m\n",
      "\u001b[0;32m~/ttmp/anaconda3/envs/jukebox/lib/python3.7/site-packages/transformers/optimization.py\u001b[0m in \u001b[0;36mstep\u001b[0;34m(self, closure)\u001b[0m\n\u001b[1;32m    346\u001b[0m                     \u001b[0mstate\u001b[0m\u001b[0;34m[\u001b[0m\u001b[0;34m\"step\"\u001b[0m\u001b[0;34m]\u001b[0m \u001b[0;34m=\u001b[0m \u001b[0;36m0\u001b[0m\u001b[0;34m\u001b[0m\u001b[0;34m\u001b[0m\u001b[0m\n\u001b[1;32m    347\u001b[0m                     \u001b[0;31m# Exponential moving average of gradient values\u001b[0m\u001b[0;34m\u001b[0m\u001b[0;34m\u001b[0m\u001b[0;34m\u001b[0m\u001b[0m\n\u001b[0;32m--> 348\u001b[0;31m                     \u001b[0mstate\u001b[0m\u001b[0;34m[\u001b[0m\u001b[0;34m\"exp_avg\"\u001b[0m\u001b[0;34m]\u001b[0m \u001b[0;34m=\u001b[0m \u001b[0mtorch\u001b[0m\u001b[0;34m.\u001b[0m\u001b[0mzeros_like\u001b[0m\u001b[0;34m(\u001b[0m\u001b[0mp\u001b[0m\u001b[0;34m.\u001b[0m\u001b[0mdata\u001b[0m\u001b[0;34m)\u001b[0m\u001b[0;34m\u001b[0m\u001b[0;34m\u001b[0m\u001b[0m\n\u001b[0m\u001b[1;32m    349\u001b[0m                     \u001b[0;31m# Exponential moving average of squared gradient values\u001b[0m\u001b[0;34m\u001b[0m\u001b[0;34m\u001b[0m\u001b[0;34m\u001b[0m\u001b[0m\n\u001b[1;32m    350\u001b[0m                     \u001b[0mstate\u001b[0m\u001b[0;34m[\u001b[0m\u001b[0;34m\"exp_avg_sq\"\u001b[0m\u001b[0;34m]\u001b[0m \u001b[0;34m=\u001b[0m \u001b[0mtorch\u001b[0m\u001b[0;34m.\u001b[0m\u001b[0mzeros_like\u001b[0m\u001b[0;34m(\u001b[0m\u001b[0mp\u001b[0m\u001b[0;34m.\u001b[0m\u001b[0mdata\u001b[0m\u001b[0;34m)\u001b[0m\u001b[0;34m\u001b[0m\u001b[0;34m\u001b[0m\u001b[0m\n",
      "\u001b[0;31mRuntimeError\u001b[0m: CUDA out of memory. Tried to allocate 20.00 MiB (GPU 0; 23.70 GiB total capacity; 1.36 GiB already allocated; 5.44 MiB free; 1.51 GiB reserved in total by PyTorch) If reserved memory is >> allocated memory try setting max_split_size_mb to avoid fragmentation.  See documentation for Memory Management and PYTORCH_CUDA_ALLOC_CONF"
     ]
    }
   ],
   "source": [
    "trainer.train()"
   ]
  },
  {
   "cell_type": "code",
   "execution_count": null,
   "id": "641e6fc6",
   "metadata": {
    "scrolled": true
   },
   "outputs": [],
   "source": [
    "afterTrainingHCEmbedding = model.bert.embeddings.handConfig_embeddings.weight\n",
    "afterTrainingHCEmbedding"
   ]
  },
  {
   "cell_type": "code",
   "execution_count": 1,
   "id": "c4f70a42",
   "metadata": {
    "scrolled": true
   },
   "outputs": [
    {
     "ename": "NameError",
     "evalue": "name 'Path' is not defined",
     "output_type": "error",
     "traceback": [
      "\u001b[0;31m---------------------------------------------------------------------------\u001b[0m",
      "\u001b[0;31mNameError\u001b[0m                                 Traceback (most recent call last)",
      "\u001b[0;32m/tmp/ipykernel_3186636/2307816136.py\u001b[0m in \u001b[0;36m<module>\u001b[0;34m\u001b[0m\n\u001b[0;32m----> 1\u001b[0;31m \u001b[0mBEST_MODEL_SAVEDIR\u001b[0m \u001b[0;34m=\u001b[0m \u001b[0mPath\u001b[0m\u001b[0;34m(\u001b[0m\u001b[0;34m'/home/mconati/ttmp/styletransfer/'\u001b[0m \u001b[0;34m+\u001b[0m \u001b[0mMDEDir\u001b[0m \u001b[0;34m+\u001b[0m \u001b[0;34m'/best/model/NSP'\u001b[0m\u001b[0;34m)\u001b[0m\u001b[0;34m\u001b[0m\u001b[0;34m\u001b[0m\u001b[0m\n\u001b[0m\u001b[1;32m      2\u001b[0m \u001b[0mtrainer\u001b[0m\u001b[0;34m.\u001b[0m\u001b[0msave_model\u001b[0m\u001b[0;34m(\u001b[0m\u001b[0mBEST_MODEL_SAVEDIR\u001b[0m\u001b[0;34m)\u001b[0m\u001b[0;34m\u001b[0m\u001b[0;34m\u001b[0m\u001b[0m\n",
      "\u001b[0;31mNameError\u001b[0m: name 'Path' is not defined"
     ]
    }
   ],
   "source": [
    "BEST_MODEL_SAVEDIR = Path('/home/mconati/ttmp/styletransfer/' + MDEDir + '/best/model/NSP')\n",
    "trainer.save_model(BEST_MODEL_SAVEDIR)"
   ]
  },
  {
   "cell_type": "markdown",
   "id": "76e2e3b0",
   "metadata": {},
   "source": [
    "# Code in progress from here on out. Testing to make sure the LM works as expected"
   ]
  },
  {
   "cell_type": "code",
   "execution_count": 46,
   "id": "4b327053",
   "metadata": {},
   "outputs": [],
   "source": [
    "loadModel = True\n",
    "mpath = '/home/mconati/ttmp/styletransfer/' + MDEDir + '/model/best/model/pytorch_model.bin'"
   ]
  },
  {
   "cell_type": "code",
   "execution_count": null,
   "id": "c29d4138",
   "metadata": {},
   "outputs": [],
   "source": [
    "model"
   ]
  },
  {
   "cell_type": "code",
   "execution_count": null,
   "id": "e5f1d4b1",
   "metadata": {},
   "outputs": [],
   "source": [
    "loadModel = True\n",
    "mpath = '/home/mconati/ttmp/styletransfer/' + MDEDir + '/model/best/model/pytorch_model.bin'\n",
    "\n",
    "if loadModel:\n",
    "    #Load a pretrained BERT model\n",
    "    model = BertForPreTraining(config=config)\n",
    "    print('Num parameters:', model.num_parameters())\n",
    "\n",
    "\n",
    "    #Create a custom embedding class\n",
    "    temp = CustomBertEmbeddings(config)\n",
    "    #Replace the model's embedding layer\n",
    "    model.bert.embeddings = temp\n",
    "\n",
    "\n",
    "\n",
    "    mdict = torch.load(mpath)\n",
    "\n",
    "    model.load_state_dict(mdict)"
   ]
  },
  {
   "cell_type": "code",
   "execution_count": null,
   "id": "453d0c73",
   "metadata": {},
   "outputs": [],
   "source": [
    "import random\n",
    "import numpy as np\n",
    "\n",
    "def samp2seq(n, dataset, tokenizer, start = 0, stop = -1, maskProb = 0):\n",
    "    samp = dataset[n][\"input_ids\"][start:stop]\n",
    "\n",
    "    a = np.array(samp)\n",
    "    decoder = {value:key for key, value in tokenizer.vocab.items()}\n",
    "    b = [decoder[x] for x in a]\n",
    "    seq = \"\"\n",
    "    for idx, x in enumerate(b):\n",
    "        rand = random.random()\n",
    "        if rand < maskProb and x!='[CLS]' and x!='[SEP]':\n",
    "            x = \"[MASK]\"\n",
    "        if idx == 0:\n",
    "            seq = seq + str(x)\n",
    "        else:\n",
    "            seq = seq + \" \" + str(x)\n",
    "        if idx == len(b)-1:\n",
    "            seq = seq + \" \" + \"[SEP]\"\n",
    "    return seq"
   ]
  },
  {
   "cell_type": "code",
   "execution_count": null,
   "id": "94a37d49",
   "metadata": {},
   "outputs": [],
   "source": [
    "def modelPred(seq, model, tokenizer):\n",
    "    device = model.device\n",
    "    tokenized = torch.Tensor(tokenizer(seq)[\"input_ids\"]).to(device)\n",
    "    tokenized = tokenized[1:-1].view(1, -1) #get rid of extra CLS and SEP tokens\n",
    "    preds = model(tokenized)['logits']\n",
    "    pitches = torch.argmax(preds[0], axis=2).detach().cpu().numpy().squeeze()\n",
    "    octaves = torch.argmax(preds[1], axis=2).detach().cpu().numpy().squeeze()\n",
    "    handConfs = torch.argmax(preds[2], axis=2).detach().cpu().numpy().squeeze()\n",
    "    numTokens = len(pitches)\n",
    "    \n",
    "    seq = \"\"\n",
    "    for idx, x in enumerate(octaves):\n",
    "        octave = octaves[idx]\n",
    "        pitch = pitches[idx]\n",
    "        hand = handConfs[idx]\n",
    "        MDE = str(octave)+ \"s\" + str(pitch)+ \"s\" + str(hand)\n",
    "        if idx>0 and idx<numTokens-2:\n",
    "            seq = seq + MDE + \" \"\n",
    "        if idx ==numTokens-2:\n",
    "            seq = seq + MDE\n",
    "    \n",
    "    return seq\n",
    "    "
   ]
  },
  {
   "cell_type": "markdown",
   "id": "4c69a5a0",
   "metadata": {},
   "source": [
    "Generate test sequences"
   ]
  },
  {
   "cell_type": "code",
   "execution_count": null,
   "id": "86f46c9e",
   "metadata": {
    "scrolled": true
   },
   "outputs": [],
   "source": [
    "original = samp2seq(0, test_dataset, tokenizer, 0, 50)\n",
    "masked = samp2seq(0, test_dataset, tokenizer, 0, 50, maskProb=0.15)\n",
    "original"
   ]
  },
  {
   "cell_type": "code",
   "execution_count": null,
   "id": "ed1674bd",
   "metadata": {},
   "outputs": [],
   "source": [
    "masked"
   ]
  },
  {
   "cell_type": "code",
   "execution_count": null,
   "id": "1072918a",
   "metadata": {
    "scrolled": true
   },
   "outputs": [],
   "source": [
    "pred = modelPred(original, model, tokenizer)\n",
    "pred"
   ]
  },
  {
   "cell_type": "code",
   "execution_count": null,
   "id": "388b1837",
   "metadata": {},
   "outputs": [],
   "source": [
    "def evaluateAcc(original, masked, pred):\n",
    "    pred = '[CLS] ' + pred + ' [SEP]'\n",
    "    original = original.split(' ')\n",
    "    masked = masked.split(' ')\n",
    "    pred = pred.split(' ')\n",
    "    \n",
    "    total = 0\n",
    "    octave = 0\n",
    "    pitch = 0\n",
    "    hand = 0\n",
    "\n",
    "    for x, item in enumerate(masked):\n",
    "        if item == '[MASK]' and original[x] !='[PAD]':\n",
    "            actual = original[x].split('s')\n",
    "            predicted = pred[x].split('s')\n",
    "            total +=1\n",
    "            \n",
    "\n",
    "            try:\n",
    "                if actual[0]==predicted[0]:\n",
    "                    octave +=1\n",
    "                if actual[1]==predicted[1]:\n",
    "                    pitch +=1\n",
    "                if actual[2]==predicted[2]:\n",
    "                    hand +=1\n",
    "            except:\n",
    "                print(predicted)\n",
    "                print(actual)\n",
    "                \n",
    "    if total > 0:\n",
    "        octaveAcc = octave/total\n",
    "        pitchAcc = pitch/total\n",
    "        handAcc = hand/total\n",
    "    else:\n",
    "        #NO MASKING OCCURRED!\n",
    "        return -1, -1, -1\n",
    "                \n",
    "\n",
    "    \n",
    "    return octaveAcc, pitchAcc, handAcc"
   ]
  },
  {
   "cell_type": "code",
   "execution_count": null,
   "id": "20f26099",
   "metadata": {},
   "outputs": [],
   "source": [
    "def checkOverWholeSet(maskProb, train_dataset, tokenizer, model):\n",
    "    o_total = 0\n",
    "    p_total = 0\n",
    "    h_total = 0\n",
    "    total = 0\n",
    "    for sampleNum, x in enumerate(tqdm(range(len(train_dataset)))):\n",
    "        original = samp2seq(sampleNum, train_dataset, tokenizer)\n",
    "        masked = samp2seq(sampleNum, train_dataset, tokenizer, maskProb=maskProb)\n",
    "        pred = modelPred(masked, model, tokenizer)\n",
    "\n",
    "        o, p, h = evaluateAcc(original, masked, pred)\n",
    "        if o == -1:\n",
    "            continue\n",
    "        o_total +=o\n",
    "        p_total +=p\n",
    "        h_total +=h\n",
    "        total +=1\n",
    "    if total != 0:\n",
    "        o_acc = o_total/total\n",
    "        p_acc = p_total/total\n",
    "        h_acc = h_total/total\n",
    "        return o_acc, p_acc, h_acc\n",
    "    return 1,1,1"
   ]
  },
  {
   "cell_type": "code",
   "execution_count": null,
   "id": "1a217677",
   "metadata": {},
   "outputs": [],
   "source": [
    "import matplotlib.pyplot as plt\n",
    "\n",
    "def varyMaskAndPlot(maskProbs, test_dataset, tokenizer, model):\n",
    "    o_accs = []\n",
    "    p_accs = []\n",
    "    h_accs = []\n",
    "    for maskProb in maskProbs:\n",
    "        print(\"CHECKING MASKPROB: \" + str(maskProb))\n",
    "        o_acc, p_acc, h_acc = checkOverWholeSet(maskProb, test_dataset, tokenizer, model)\n",
    "        o_accs.append(o_acc)\n",
    "        p_accs.append(p_acc)\n",
    "        h_accs.append(h_acc)\n",
    "    \n",
    "    plt.plot(maskProbs, o_accs, 'g', label='Octave Accuracy')\n",
    "    plt.plot(maskProbs, p_accs, 'b', label='Pitch Accuracy')\n",
    "    plt.plot(maskProbs, h_accs, 'r', label='Hand Configuration Accuracy')\n",
    "\n",
    "\n",
    "    plt.title('Masking Percentage and Prediction Accuracy on Masked Tokens')\n",
    "\n",
    "    plt.xlabel('Masking Percentage')\n",
    "\n",
    "    plt.ylabel('Prediction Accuracy on Masked Tokens')\n",
    "\n",
    "    plt.legend()\n",
    "\n",
    "    plt.show()\n",
    "    "
   ]
  },
  {
   "cell_type": "markdown",
   "id": "dd140489",
   "metadata": {},
   "source": [
    "Check the accuracies on one sequence from a dataset"
   ]
  },
  {
   "cell_type": "code",
   "execution_count": null,
   "id": "3b8414e1",
   "metadata": {},
   "outputs": [],
   "source": [
    "sampleNum = 11\n",
    "maskProb = 0.1\n",
    "\n",
    "original = samp2seq(sampleNum, train_dataset, tokenizer)\n",
    "masked = samp2seq(sampleNum, train_dataset, tokenizer, maskProb=maskProb)\n",
    "pred = modelPred(masked, model, tokenizer)\n",
    "\n",
    "accuracies = evaluateAcc(original, masked, pred)\n",
    "print(\"Octave Accuracy: {}\".format(accuracies[0]))\n",
    "print(\"Pitch Accuracy: {}\".format(accuracies[1]))\n",
    "print(\"Hand Configuration Accuracy: {}\".format(accuracies[2]))"
   ]
  },
  {
   "cell_type": "markdown",
   "id": "66b5e880",
   "metadata": {},
   "source": [
    "Check the average accuracy on all sequences in a dataset"
   ]
  },
  {
   "cell_type": "code",
   "execution_count": null,
   "id": "12ea8f56",
   "metadata": {
    "scrolled": true
   },
   "outputs": [],
   "source": [
    "maskProb = 0.1\n",
    "checkOverWholeSet(maskProb, train_dataset, tokenizer, model)"
   ]
  },
  {
   "cell_type": "markdown",
   "id": "ac9c1fd9",
   "metadata": {},
   "source": [
    "Check for many different masking probabilities and plot"
   ]
  },
  {
   "cell_type": "code",
   "execution_count": null,
   "id": "9122223a",
   "metadata": {},
   "outputs": [],
   "source": [
    "maskProbs = np.arange(20)/20\n",
    "varyMaskAndPlot(maskProbs, test_dataset, tokenizer, model)"
   ]
  },
  {
   "cell_type": "code",
   "execution_count": null,
   "id": "b1c07a9c",
   "metadata": {},
   "outputs": [],
   "source": []
  }
 ],
 "metadata": {
  "kernelspec": {
   "display_name": "Python 3 (ipykernel)",
   "language": "python",
   "name": "python3"
  },
  "language_info": {
   "codemirror_mode": {
    "name": "ipython",
    "version": 3
   },
   "file_extension": ".py",
   "mimetype": "text/x-python",
   "name": "python",
   "nbconvert_exporter": "python",
   "pygments_lexer": "ipython3",
   "version": "3.7.13"
  }
 },
 "nbformat": 4,
 "nbformat_minor": 5
}
