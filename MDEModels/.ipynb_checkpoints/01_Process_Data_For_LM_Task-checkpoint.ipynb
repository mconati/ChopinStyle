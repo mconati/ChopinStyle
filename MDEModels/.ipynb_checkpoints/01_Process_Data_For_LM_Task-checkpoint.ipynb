{
 "cells": [
  {
   "cell_type": "markdown",
   "metadata": {},
   "source": [
    "# MIRLAB code for calculating bootleg scores from MIDI"
   ]
  },
  {
   "cell_type": "code",
   "execution_count": 1,
   "metadata": {
    "scrolled": true
   },
   "outputs": [],
   "source": [
    "%matplotlib inline"
   ]
  },
  {
   "cell_type": "code",
   "execution_count": 2,
   "metadata": {
    "scrolled": true
   },
   "outputs": [],
   "source": [
    "import numpy as np\n",
    "import matplotlib.pyplot as plt\n",
    "from mido import MidiFile, tick2second\n",
    "from pretty_midi import PrettyMIDI\n",
    "import pickle\n",
    "import os\n",
    "from os import path\n",
    "import time\n",
    "import pathlib"
   ]
  },
  {
   "cell_type": "markdown",
   "metadata": {},
   "source": [
    "### Generating bootleg score"
   ]
  },
  {
   "cell_type": "code",
   "execution_count": 3,
   "metadata": {
    "scrolled": true
   },
   "outputs": [],
   "source": [
    "def showImage(X, sz = (6,6)):\n",
    "    plt.figure(figsize = sz)\n",
    "    plt.imshow(X, cmap = 'gray', origin = 'lower')"
   ]
  },
  {
   "cell_type": "code",
   "execution_count": 4,
   "metadata": {
    "scrolled": true
   },
   "outputs": [],
   "source": [
    "def getNoteEvents(midifile, quant = 10):\n",
    "    ### Given a midi file, return a list of (t_tick, t_sec, notes) tuples for simultaneous note events\n",
    "    \n",
    "    # get note onset info\n",
    "    mid = MidiFile(midifile)\n",
    "    noteEvents = []\n",
    "    checkForDuplicates = {}\n",
    "    for i, track in enumerate(mid.tracks):\n",
    "        t = 0 \n",
    "        for msg in track:\n",
    "            t += msg.time # ticks since last event\n",
    "            if msg.type == 'note_on' and msg.velocity > 0:\n",
    "                key = '{},{}'.format(t,msg.note)\n",
    "                if key not in checkForDuplicates:\n",
    "                    noteEvents.append((t, msg.note))\n",
    "                    checkForDuplicates[key] = 0\n",
    "    noteEvents = sorted(noteEvents) # merge note events from all tracks, sort by time\n",
    "    pm = PrettyMIDI(midifile)\n",
    "    noteOnsets = [(t_ticks, pm.tick_to_time(t_ticks), note) for (t_ticks, note) in noteEvents]\n",
    "    \n",
    "    # collapse simultaneous notes\n",
    "    d = {}\n",
    "    ticks_quant = [n[0]//quant for n in noteOnsets] # quantized time units (ticks)\n",
    "    for n, t_quant in zip(noteOnsets, ticks_quant):\n",
    "        if t_quant not in d:\n",
    "            d[t_quant] = {}\n",
    "            d[t_quant]['ticks'] = []\n",
    "            d[t_quant]['secs'] = []\n",
    "            d[t_quant]['notes'] = []\n",
    "        d[t_quant]['ticks'].append(n[0])\n",
    "        d[t_quant]['secs'].append(n[1])\n",
    "        d[t_quant]['notes'].append(n[2])\n",
    "        \n",
    "    result = [(d[key]['ticks'][0], d[key]['secs'][0], d[key]['notes']) for key in sorted(d.keys())]\n",
    "    \n",
    "    return result, d # return d for debugging"
   ]
  },
  {
   "cell_type": "markdown",
   "metadata": {},
   "source": [
    "## Hastily modified generate bootleg score. Doesn't separate rh/lh and just assigns all notes to one hand(rh)"
   ]
  },
  {
   "cell_type": "code",
   "execution_count": 5,
   "metadata": {
    "scrolled": true
   },
   "outputs": [],
   "source": [
    "def generateBootlegScore(noteEvents, repeatNotes = 1, filler = 0):\n",
    "    rh_dim = 88 # E3 to C8 (inclusive)\n",
    "    lh_dim = 0 # A1 to G4 (inclusive)\n",
    "    rh = [] # list of arrays of size rh_dim\n",
    "    lh = [] # list of arrays of size lh_dim\n",
    "    numNotes = [] # number of simultaneous notes\n",
    "    times = [] # list of (tsec, ttick) tuples indicating the time in ticks and seconds\n",
    "    mapN = getNoteheadPlacementMapping() # maps midi numbers to locations on right and left hand staves\n",
    "    \n",
    "    for i, (ttick, tsec, notes) in enumerate(noteEvents):\n",
    "        \n",
    "        # insert empty filler columns between note events\n",
    "        if i > 0:\n",
    "            for j in range(filler):\n",
    "                rh.append(np.zeros((rh_dim,1)))\n",
    "                lh.append(np.zeros((lh_dim,1)))\n",
    "                numNotes.append(0)\n",
    "            # get corresponding times using linear interpolation\n",
    "            interp_ticks = np.interp(np.arange(1, filler+1), [0, filler+1], [noteEvents[i-1][0], ttick])\n",
    "            interp_secs = np.interp(np.arange(1, filler+1), [0, filler+1], [noteEvents[i-1][1], tsec])\n",
    "            for tup in zip(interp_secs, interp_ticks):\n",
    "                times.append((tup[0], tup[1]))\n",
    "\n",
    "        # insert note events columns\n",
    "        rhvec = np.zeros((rh_dim, 1))\n",
    "        lhvec = np.zeros((lh_dim, 1))\n",
    "        for midinum in notes:\n",
    "            rhvec += getNoteheadPlacement(midinum, mapN, rh_dim)\n",
    "        for j in range(repeatNotes):\n",
    "            rh.append(rhvec)\n",
    "            lh.append(lhvec)\n",
    "            numNotes.append(len(notes))\n",
    "            times.append((tsec, ttick))\n",
    "    rh = np.clip(np.squeeze(np.array(rh)).T, 0, 1) # clip in case e.g. E and F played simultaneously\n",
    "    lh = np.clip(np.squeeze(np.array(lh)).T, 0, 1) \n",
    "    both = np.vstack((lh, rh))\n",
    "    staffLinesRH = [7,9,11,13,15]\n",
    "    staffLinesLH = [13,15,17,19,21]\n",
    "    staffLinesBoth = [13,15,17,19,21,35,37,39,41,43]\n",
    "    return both, times, numNotes, staffLinesBoth, (rh, staffLinesRH), (lh, staffLinesLH)"
   ]
  },
  {
   "cell_type": "code",
   "execution_count": 6,
   "metadata": {
    "scrolled": true
   },
   "outputs": [],
   "source": [
    "def getNoteheadPlacementMapping():\n",
    "    r = getNoteheadPlacementMapping()\n",
    "    return noteMap"
   ]
  },
  {
   "cell_type": "code",
   "execution_count": 7,
   "metadata": {
    "scrolled": true
   },
   "outputs": [],
   "source": [
    "def getNoteheadPlacementMapping():\n",
    "    d = {}\n",
    "    for x in range(21, 108):\n",
    "        d[x] = [x-21]\n",
    "    return d"
   ]
  },
  {
   "cell_type": "code",
   "execution_count": 8,
   "metadata": {
    "scrolled": true
   },
   "outputs": [],
   "source": [
    "def getNoteheadPlacement(midinum, midi2loc, dim):\n",
    "    r = np.zeros((dim, 1))\n",
    "    if midinum in midi2loc:\n",
    "        for idx in midi2loc[midinum]:\n",
    "            r[idx,0] = 1\n",
    "    return r"
   ]
  },
  {
   "cell_type": "code",
   "execution_count": 9,
   "metadata": {
    "scrolled": true
   },
   "outputs": [],
   "source": [
    "def visualizeBootlegScore(bs, lines):\n",
    "    showImage(1 - bs, (10,10))\n",
    "    for l in range(1, bs.shape[0], 2):\n",
    "        plt.axhline(l, c = 'b')\n",
    "    for l in lines:\n",
    "        plt.axhline(l, c = 'r')"
   ]
  },
  {
   "cell_type": "code",
   "execution_count": 42,
   "metadata": {
    "scrolled": true
   },
   "outputs": [],
   "source": [
    "midiDir = '/home/mconati/ttmp/styletransfer/ChopinAndHannds'\n",
    "QANONDir = '/home/mconati/ttmp/styletransfer/QANON'\n",
    "MDEDir = '/home/mconati/ttmp/styletransfer/MDE'"
   ]
  },
  {
   "cell_type": "code",
   "execution_count": 43,
   "metadata": {
    "scrolled": true
   },
   "outputs": [],
   "source": [
    "import os\n",
    "midiFiles = []\n",
    "for root, dirs, files in os.walk(midiDir):\n",
    "    for file in files:\n",
    "        name = root  + '/' + file\n",
    "        midiFiles.append(name)"
   ]
  },
  {
   "cell_type": "markdown",
   "metadata": {},
   "source": [
    "## Generate QANON representations for the Chopin43 dataset and put them in QANONDir"
   ]
  },
  {
   "cell_type": "code",
   "execution_count": 44,
   "metadata": {},
   "outputs": [],
   "source": [
    "def editBscoreByShifts(bscore, shifts):\n",
    "    # positive = shift right (higher)\n",
    "    augmented_bscores = []\n",
    "    for shift in shifts:\n",
    "        bscore1 = copy.copy(bscore)\n",
    "        if bscore.shape[0] != 88 or bscore.shape[1] == 0:\n",
    "            print(\"HERE\")\n",
    "            continue\n",
    "        LH = bscore1\n",
    "        shift_LH = np.zeros((LH.shape[0]+abs(shift),LH.shape[1]))\n",
    "        if shift < 0:\n",
    "            shift_LH[:-abs(shift),:] = LH\n",
    "            new_LH = shift_LH[-LH.shape[0]:,:]\n",
    "        else:\n",
    "            shift_LH[abs(shift):,:] = LH\n",
    "            new_LH = shift_LH[:LH.shape[0],:]\n",
    "        bscore1 = new_LH\n",
    "        augmented_bscores.append(bscore1)\n",
    "    return augmented_bscores"
   ]
  },
  {
   "cell_type": "code",
   "execution_count": null,
   "metadata": {
    "scrolled": true
   },
   "outputs": [],
   "source": [
    "import copy\n",
    "shifts = [-3,-2,-1,0,1,2,3]\n",
    "count = 0\n",
    "tempLH = '/home/mconati/ttmp/styletransfer/temp'\n",
    "for i in range(len(midiFiles)):\n",
    "    mid = MidiFile(midiFiles[i])\n",
    "    \n",
    "    #Generate a left hand only midiFile\n",
    "    delete = []\n",
    "    for x in reversed(range(len(mid.tracks))):\n",
    "        if 'left' not in mid.tracks[x].name.lower() and 'links' not in mid.tracks[x].name.lower():\n",
    "            delete.append(x)\n",
    "    for y in delete:\n",
    "        del mid.tracks[y]\n",
    "    mid.save(tempLH)\n",
    "    \n",
    "    note_events, _ = getNoteEvents(tempLH)\n",
    "    path = pathlib.PurePath(midiFiles[i])\n",
    "    name = path.name[0:6]\n",
    "    bscore, times, num_notes, stafflines, _, _ = generateBootlegScore(note_events, 1, 0)\n",
    "    bscores = editBscoreByShifts(bscore, shifts)\n",
    "    #Visualize one of the files\n",
    "    if i==0:\n",
    "        visualizeBootlegScore(bscore[:,0:10], stafflines)\n",
    "    #Save all of the files\n",
    "    for n in range(len(bscores)):\n",
    "        idx = np.argwhere(np.all(bscores[n][..., :] == 0, axis=0))\n",
    "        fixed = np.delete(bscores[n], idx, axis=1)\n",
    "        bscores[n] = fixed\n",
    "        np.save(QANONDir + '/' + name + '_' + str(n), fixed)\n",
    "        \n",
    "\n",
    "    \n",
    "    #CHECK THAT THE QANON REP HAS NO COLS OF ZEROS\n",
    "    for bs in bscores:\n",
    "        for c in range(bs.shape[1]):\n",
    "            column = bs[:, c]\n",
    "            if np.sum(column)==0:\n",
    "                print(c)\n",
    "                print(midiFiles[i])\n",
    "                print(\"ERROR: there is a column of zeros\")\n",
    "                break\n",
    "            \n",
    "os.remove(tempLH)"
   ]
  },
  {
   "cell_type": "code",
   "execution_count": null,
   "metadata": {},
   "outputs": [],
   "source": []
  },
  {
   "cell_type": "code",
   "execution_count": null,
   "metadata": {},
   "outputs": [],
   "source": [
    "import copy\n",
    "shifts = [-3,-2,-1,0,1,2,3]\n",
    "q = np.load(QANONFiles[1])\n",
    "bscores = editBscoreByShifts(q, shifts)\n",
    "for bscore in bscores:\n",
    "    visualizeBootlegScore(bscore[:,0:10], stafflines)"
   ]
  },
  {
   "cell_type": "code",
   "execution_count": null,
   "metadata": {},
   "outputs": [],
   "source": [
    "import os\n",
    "midiFiles = []\n",
    "QANONFiles = []\n",
    "for root, dirs, files in os.walk(midiDir):\n",
    "    for file in files:\n",
    "        name = root  + '/' + file\n",
    "        midiFiles.append(name)\n",
    "for root, dirs, files in os.walk(QANONDir):\n",
    "    for file in files:\n",
    "        name = root  + '/' + file\n",
    "        if '.npy' in name:\n",
    "            QANONFiles.append(name)"
   ]
  },
  {
   "cell_type": "code",
   "execution_count": null,
   "metadata": {},
   "outputs": [],
   "source": [
    "combs = []\n",
    "freqs = []\n",
    "with open('/home/mconati/ttmp/styletransfer/QANON/text/QANON.txt', 'w') as f:\n",
    "    for x in range(len(QANONFiles)):\n",
    "        txt = ''\n",
    "        with open('/home/mconati/ttmp/styletransfer/QANON/text/q_{}.txt'.format(x), 'w') as g:\n",
    "            q = np.load(QANONFiles[x])\n",
    "            for c in range(q.shape[1]):\n",
    "\n",
    "                column = list(q[:, c])\n",
    "                col = column\n",
    "                if col not in combs:\n",
    "                    combs.append(col)\n",
    "                    freqs.append(1)\n",
    "                else:\n",
    "                    freqs[combs.index(col)]+=1\n",
    "                listCol = [str(int(x)) for x in column]\n",
    "                strCol = ''.join(listCol)\n",
    "                txt = txt + strCol + ' '\n",
    "            g.write(txt)\n",
    "            f.write(txt)\n",
    "            f.write('\\n')\n"
   ]
  },
  {
   "cell_type": "code",
   "execution_count": null,
   "metadata": {},
   "outputs": [],
   "source": [
    "sum(freqs)"
   ]
  },
  {
   "cell_type": "markdown",
   "metadata": {},
   "source": [
    "## Generate MDE representations for the Chopin43 dataset"
   ]
  },
  {
   "cell_type": "code",
   "execution_count": null,
   "metadata": {
    "scrolled": true
   },
   "outputs": [],
   "source": [
    "dir1 = '/home/mconati/ttmp/outputs/Datasets/m_representations'\n",
    "dir2 = '/home/mconati/ttmp/outputs/Datasets/m_codewords'\n"
   ]
  },
  {
   "cell_type": "code",
   "execution_count": null,
   "metadata": {
    "scrolled": true
   },
   "outputs": [],
   "source": [
    "count=0\n",
    "import os\n",
    "\n",
    "for root, dirs, files in os.walk(dir1):\n",
    "    for file in files:\n",
    "        name = root  + '/' + file\n",
    "        if len(file)<9:\n",
    "            count+=1\n",
    "            print(name)\n",
    "            #os.remove(name)"
   ]
  },
  {
   "cell_type": "code",
   "execution_count": null,
   "metadata": {
    "scrolled": true
   },
   "outputs": [],
   "source": [
    "count"
   ]
  },
  {
   "cell_type": "code",
   "execution_count": null,
   "metadata": {
    "scrolled": false
   },
   "outputs": [],
   "source": [
    "midiDir = '/home/mconati/ttmp/styletransfer/Chopin43'\n",
    "QANONDir = '/home/mconati/ttmp/styletransfer/QANON'\n",
    "MDEDir = '/home/mconati/ttmp/styletransfer/MDE'"
   ]
  },
  {
   "cell_type": "code",
   "execution_count": null,
   "metadata": {
    "scrolled": true
   },
   "outputs": [],
   "source": [
    "def getMDE(column, c):\n",
    "    indexes = np.nonzero(column)[0]\n",
    "    #print(indexes)\n",
    "    lowest = min(indexes)\n",
    "    octave = int(np.floor((lowest+21)/12)-2)\n",
    "    pitch = (lowest+21)%12\n",
    "    hand = list(\"0\"*(max(indexes-lowest)+1))\n",
    "    fingerPosns = indexes-lowest\n",
    "    for x in fingerPosns: hand[x] = \"1\" \n",
    "    hand = ''.join(hand)\n",
    "    return octave, pitch, hand, c"
   ]
  },
  {
   "cell_type": "code",
   "execution_count": null,
   "metadata": {
    "scrolled": false
   },
   "outputs": [],
   "source": [
    "#build the hands dictionary\n",
    "hcount=0\n",
    "hands = {}\n",
    "for x in range(len(QANONFiles)):\n",
    "    q = np.load(QANONFiles[x])\n",
    "    for c in range(q.shape[1]):\n",
    "        column = q[:, c]\n",
    "        o,p,h,c = getMDE(column, c)\n",
    "        if h not in hands and len(h)<18:\n",
    "            hands[h] = hcount\n",
    "            hcount+=1\n",
    "            \n",
    "len(hands)"
   ]
  },
  {
   "cell_type": "code",
   "execution_count": null,
   "metadata": {},
   "outputs": [],
   "source": [
    "for x in range(len(QANONFiles)):\n",
    "    q = np.load(QANONFiles[x])\n",
    "    piece = []\n",
    "    for c in range(q.shape[1]):\n",
    "        column = q[:, c]\n",
    "        o,p,h,c = getMDE(column, c)\n",
    "        try: hc = hands[h]\n",
    "        except: hc = 0\n",
    "        MDE = [o,0,p,0,hc+1]\n",
    "        piece.append(MDE)\n",
    "    piece = np.array(piece)\n",
    "    path = pathlib.PurePath(midiFiles[x])\n",
    "    name = path.name[0:6]\n",
    "    np.save(MDEDir + '/' + name, piece)"
   ]
  },
  {
   "cell_type": "code",
   "execution_count": null,
   "metadata": {},
   "outputs": [],
   "source": [
    "combs = []\n",
    "freqs = []\n",
    "with open('/home/mconati/ttmp/styletransfer/MDE/full/MDE.txt', 'w') as f:\n",
    "    for x in range(len(QANONFiles)):\n",
    "        txt = ''\n",
    "        with open('/home/mconati/ttmp/styletransfer/MDE/text/m_{}.txt'.format(x), 'w') as g:\n",
    "            q = np.load(QANONFiles[x])\n",
    "            for c in range(q.shape[1]):\n",
    "                column = q[:, c]\n",
    "                o,p,h,c = getMDE(column, c)\n",
    "#                 #Unknown pitch\n",
    "#                 if p>12:\n",
    "#                     p=0\n",
    "#                 #Unknown Octave\n",
    "#                 if o>8:\n",
    "#                     o=0\n",
    "                #Unknown hand config\n",
    "                try: hc = hands[h] + 1\n",
    "                except: hc = 0\n",
    "                \n",
    "                MDE = [int(o),'_',int(p),'_',int(hc)]\n",
    "                listCol = [str(x) for x in MDE]\n",
    "                strCol = ''.join(listCol)\n",
    "                txt = txt + strCol + ' '\n",
    "                print(strCol)\n",
    "            g.write(txt)\n",
    "            f.write(txt)\n",
    "            f.write('\\n')"
   ]
  },
  {
   "cell_type": "code",
   "execution_count": null,
   "metadata": {},
   "outputs": [],
   "source": [
    "\n",
    "\n"
   ]
  },
  {
   "cell_type": "code",
   "execution_count": null,
   "metadata": {},
   "outputs": [],
   "source": []
  },
  {
   "cell_type": "code",
   "execution_count": null,
   "metadata": {},
   "outputs": [],
   "source": []
  }
 ],
 "metadata": {
  "kernelspec": {
   "display_name": "Python 3 (ipykernel)",
   "language": "python",
   "name": "python3"
  },
  "language_info": {
   "codemirror_mode": {
    "name": "ipython",
    "version": 3
   },
   "file_extension": ".py",
   "mimetype": "text/x-python",
   "name": "python",
   "nbconvert_exporter": "python",
   "pygments_lexer": "ipython3",
   "version": "3.7.13"
  }
 },
 "nbformat": 4,
 "nbformat_minor": 2
}
