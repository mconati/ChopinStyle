{
 "cells": [
  {
   "cell_type": "markdown",
   "metadata": {},
   "source": [
    "# Notebook for filling the Extracted_Repns directory. This notebook uses the utility functions from comptuteMDE to calculate QANON and MDE representations, and save them in the Extracded_Repns directory"
   ]
  },
  {
   "cell_type": "markdown",
   "metadata": {},
   "source": [
    "This file sets up the directories in the following format:\n",
    "In Extracted repns, each dataset creates a QANON folder and an MDE folder.\n",
    "\n",
    "In the QANON folder, there is a folder for:\n",
    "1. QANON reps as numpy (reps)\n",
    "2. QANON reps converted to a sequence of strings (text)\n",
    "3. QANON reps converted to a sequence of strings and combined into one file (full)\n",
    "\n",
    "In the MDE folder there is a folder for:\n",
    "1. MDE reps as numpy (reps)\n",
    "2. MDE reps converted to a sequence of strings (text)\n",
    "3. MDE reps converted to a sequence of strings and combined into one file (full)\n",
    "4. Saving the LM models (model)\n",
    "5. Saving the best LM model (best)\n",
    "6. Saving the hand configurations dictionary (dict)\n",
    "7. Saving the tokenizer for the LM"
   ]
  },
  {
   "cell_type": "markdown",
   "metadata": {},
   "source": [
    "### Imports"
   ]
  },
  {
   "cell_type": "code",
   "execution_count": 15,
   "metadata": {
    "scrolled": true
   },
   "outputs": [],
   "source": [
    "import numpy as np\n",
    "import matplotlib.pyplot as plt\n",
    "from mido import MidiFile, tick2second\n",
    "from pretty_midi import PrettyMIDI\n",
    "import pickle\n",
    "import os\n",
    "from os import path\n",
    "import time\n",
    "import pathlib\n",
    "\n",
    "from utils.computeMDE import *"
   ]
  },
  {
   "cell_type": "markdown",
   "metadata": {},
   "source": [
    "### Choose the dataset and Setup the directories"
   ]
  },
  {
   "cell_type": "code",
   "execution_count": 16,
   "metadata": {},
   "outputs": [],
   "source": [
    "#CHOOSE THE DATASET\n",
    "\n",
    "#All options are: 1. Chopin43  \n",
    "                # 2. Maestro\n",
    "                # 3. Chopin and Hannds\n",
    "        \n",
    "        \n",
    "Dataset = 'Chopin43'"
   ]
  },
  {
   "cell_type": "code",
   "execution_count": 17,
   "metadata": {},
   "outputs": [],
   "source": [
    "dataset_map = {\"Chopin43\": '_C', \n",
    "               \"ChopinAndHannds\": '_CH',\n",
    "               \"Maestro\": '_M'}\n",
    "Key = dataset_map[Dataset]"
   ]
  },
  {
   "cell_type": "code",
   "execution_count": 18,
   "metadata": {},
   "outputs": [],
   "source": [
    "#Setup the Directories as needed\n",
    "\n",
    "midiDir = './Datasets/' + Dataset\n",
    "QANONDir = './Extracted_Repns/QANON' + Key\n",
    "MDEDir = './Extracted_Repns/MDE' + Key\n",
    "\n",
    "\n",
    "\n",
    "qanonRepDir = QANONDir + '/reps'\n",
    "qanonTextDir = QANONDir + '/text'\n",
    "qanonCorpusDir = QANONDir + '/full'\n",
    "\n",
    "\n",
    "handConf_Savedir = MDEDir + '/dict'\n",
    "\n",
    "MDERepDir = MDEDir + '/reps'\n",
    "modelDir = MDEDir + '/model'\n",
    "tokenizerDir = MDEDir + '/tokenizer'\n",
    "bestmodelDir = MDEDir + '/best'\n",
    "MDETextDir = MDEDir + '/text'\n",
    "MDECorpusDir = MDEDir + '/full'\n",
    "\n",
    "paths = [QANONDir, MDEDir, handConf_Savedir, qanonTextDir, qanonCorpusDir,\n",
    "         qanonRepDir, MDERepDir, modelDir, tokenizerDir, bestmodelDir, MDETextDir, MDECorpusDir]\n",
    "\n",
    "\n",
    "\n",
    "for path in paths:\n",
    "    isExist = os.path.exists(path)\n",
    "\n",
    "    if not isExist:\n",
    "\n",
    "      # Create a new directory because it does not exist \n",
    "      os.makedirs(path)"
   ]
  },
  {
   "cell_type": "markdown",
   "metadata": {},
   "source": [
    "### Calculate the QANON representations"
   ]
  },
  {
   "cell_type": "markdown",
   "metadata": {},
   "source": [
    "Make a list of all midi files in the dataset"
   ]
  },
  {
   "cell_type": "code",
   "execution_count": 19,
   "metadata": {
    "scrolled": true
   },
   "outputs": [],
   "source": [
    "import os\n",
    "midiFiles = []\n",
    "for root, dirs, files in os.walk(midiDir):\n",
    "    for file in files:\n",
    "        if \".mid\" in file:\n",
    "            name = root  + '/' + file\n",
    "            midiFiles.append(name)"
   ]
  },
  {
   "cell_type": "code",
   "execution_count": 20,
   "metadata": {},
   "outputs": [
    {
     "name": "stdout",
     "output_type": "stream",
     "text": [
      "The dataset has this many samples:\n"
     ]
    },
    {
     "data": {
      "text/plain": [
       "43"
      ]
     },
     "execution_count": 20,
     "metadata": {},
     "output_type": "execute_result"
    }
   ],
   "source": [
    "print(\"The dataset has this many samples:\")\n",
    "len(midiFiles)"
   ]
  },
  {
   "cell_type": "code",
   "execution_count": 21,
   "metadata": {},
   "outputs": [
    {
     "name": "stdout",
     "output_type": "stream",
     "text": [
      "Calculating QANONS for LEFT hand ONLY\n",
      "By default, this augments with pitch shifting since the left hand datasets are small\n"
     ]
    }
   ],
   "source": [
    "#Use the computeMDE utilities to compute QANON representations\n",
    "#and populate the reps directory\n",
    "\n",
    "#NOTE: This may take approx. 10-20 minutes for a large dataset like Maestro\n",
    "\n",
    "if 'Maestro' in midiDir:\n",
    "    print(\"Calculating QANONS for BOTH hands\")\n",
    "    calculateBothHandQanons(midiFiles, qanonRepDir)\n",
    "else:\n",
    "    print(\"Calculating QANONS for LEFT hand ONLY\")\n",
    "    print(\"By default, this augments with pitch shifting since the left hand datasets are small\")\n",
    "    calculateLeftHandQanons(midiFiles, qanonRepDir)"
   ]
  },
  {
   "cell_type": "markdown",
   "metadata": {},
   "source": [
    "Create a list of the QANON representations and the original midi files"
   ]
  },
  {
   "cell_type": "code",
   "execution_count": 22,
   "metadata": {},
   "outputs": [],
   "source": [
    "import os\n",
    "midiFiles = []\n",
    "QANONFiles = []\n",
    "for root, dirs, files in os.walk(midiDir):\n",
    "    for file in files:\n",
    "        if '.mid' in file:\n",
    "            name = root  + '/' + file\n",
    "            midiFiles.append(name)\n",
    "            \n",
    "QANONFiles = []\n",
    "for root, dirs, files in os.walk(QANONDir):\n",
    "    for file in files:\n",
    "        name = root  + '/' + file\n",
    "        if '.npy' in name:\n",
    "            QANONFiles.append(name)"
   ]
  },
  {
   "cell_type": "code",
   "execution_count": 24,
   "metadata": {},
   "outputs": [
    {
     "name": "stdout",
     "output_type": "stream",
     "text": [
      "There were 43 midi files and now are 301 QANON representations\n",
      "These numbers can be different if the dataset is augmented with pitch shifts\n"
     ]
    }
   ],
   "source": [
    "print(\"There were {} midi files and now are {} QANON representations\".format(len(midiFiles), len(QANONFiles)))\n",
    "print(\"These numbers can be different if the dataset is augmented with pitch shifts\")"
   ]
  },
  {
   "cell_type": "code",
   "execution_count": 25,
   "metadata": {},
   "outputs": [],
   "source": [
    "#Populate the QANON text and full corpus directories\n",
    "\n",
    "with open(QANONDir + '/full/QANON.txt', 'w') as f:\n",
    "    for x in range(len(QANONFiles)):\n",
    "        name = pathlib.Path(QANONFiles[x]).name.replace('npy', 'txt')\n",
    "        txt = ''\n",
    "        with open(QANONDir + '/text/{}'.format(name), 'w') as g:\n",
    "            q = np.load(QANONFiles[x])\n",
    "            for c in range(q.shape[1]):\n",
    "\n",
    "                column = list(q[:, c])\n",
    "                col = column\n",
    "                listCol = [str(int(x)) for x in column]\n",
    "                strCol = ''.join(listCol)\n",
    "                txt = txt + strCol + ' '\n",
    "            g.write(txt)\n",
    "            f.write(txt)\n",
    "            f.write('\\n')\n"
   ]
  },
  {
   "cell_type": "markdown",
   "metadata": {},
   "source": [
    "## Generate MDE representations for the Chopin43 dataset"
   ]
  },
  {
   "cell_type": "code",
   "execution_count": 26,
   "metadata": {
    "scrolled": false
   },
   "outputs": [],
   "source": [
    "#build the hand configurations dictionary\n",
    "hcount=0\n",
    "if 'Maestro' in midiDir:\n",
    "    maximum_hand_spread = 88 #For both hands, any spread is allowed\n",
    "else:\n",
    "    maximum_hand_spread = 18 #Hand configurations bigger than this size are set as UNK\n",
    "hands = {}\n",
    "\n",
    "for x in range(len(QANONFiles)):\n",
    "    q = np.load(QANONFiles[x])\n",
    "    for c in range(q.shape[1]):\n",
    "        column = q[:, c]\n",
    "        o,p,h,c = getMDE(column, c)\n",
    "        \n",
    "        if h not in hands and len(h)<maximum_hand_spread:\n",
    "            hands[h] = hcount\n",
    "            hcount+=1\n",
    "            \n",
    "#Save it to file\n",
    "with open(handConf_Savedir + '/handConf_dict', 'wb') as handle:\n",
    "    pickle.dump(hands, handle, protocol=pickle.HIGHEST_PROTOCOL)"
   ]
  },
  {
   "cell_type": "code",
   "execution_count": 27,
   "metadata": {},
   "outputs": [
    {
     "name": "stdout",
     "output_type": "stream",
     "text": [
      "There are 109 unique hand configurations\n"
     ]
    }
   ],
   "source": [
    "print(\"There are {} unique hand configurations\".format(len(hands)))"
   ]
  },
  {
   "cell_type": "code",
   "execution_count": 28,
   "metadata": {},
   "outputs": [],
   "source": [
    "#Populate the MDE representations directory. Add 1 to the hand configuration, reserving\n",
    "#0 for the unknown represenations\n",
    "\n",
    "for x in range(len(QANONFiles)):\n",
    "    q = np.load(QANONFiles[x])\n",
    "    piece = []\n",
    "    for c in range(q.shape[1]):\n",
    "        column = q[:, c]\n",
    "        o,p,h,c = getMDE(column, c)\n",
    "        try: hc = hands[h]\n",
    "        except: hc = 0\n",
    "        MDE = [o,'s',p,'s',hc+1]\n",
    "        piece.append(MDE)\n",
    "    piece = np.array(piece)\n",
    "    path = pathlib.PurePath(QANONFiles[x])\n",
    "    name = path.name\n",
    "    np.save(MDEDir + '/' + name, piece)"
   ]
  },
  {
   "cell_type": "code",
   "execution_count": 29,
   "metadata": {},
   "outputs": [],
   "source": [
    "#Populate the MDE text and corpus directories\n",
    "\n",
    "\n",
    "with open(MDEDir + '/full/MDE.txt', 'w') as f:\n",
    "    for x in range(len(QANONFiles)):\n",
    "        txt = ''\n",
    "        with open(MDEDir + '/text/m_{}.txt'.format(x), 'w') as g:\n",
    "            q = np.load(QANONFiles[x])\n",
    "            for c in range(q.shape[1]):\n",
    "                column = q[:, c]\n",
    "                o,p,h,c = getMDE(column, c)\n",
    "\n",
    "                try: hc = hands[h] + 1\n",
    "                except: hc = 0\n",
    "                \n",
    "                MDE = [int(o),'s',int(p),'s',int(hc)]\n",
    "                listCol = [str(x) for x in MDE]\n",
    "                strCol = ''.join(listCol)\n",
    "                txt = txt + strCol + ' '\n",
    "\n",
    "            g.write(txt)\n",
    "            f.write(txt)\n",
    "            f.write('\\n')"
   ]
  },
  {
   "cell_type": "code",
   "execution_count": null,
   "metadata": {},
   "outputs": [],
   "source": []
  }
 ],
 "metadata": {
  "kernelspec": {
   "display_name": "Python 3 (ipykernel)",
   "language": "python",
   "name": "python3"
  },
  "language_info": {
   "codemirror_mode": {
    "name": "ipython",
    "version": 3
   },
   "file_extension": ".py",
   "mimetype": "text/x-python",
   "name": "python",
   "nbconvert_exporter": "python",
   "pygments_lexer": "ipython3",
   "version": "3.7.13"
  }
 },
 "nbformat": 4,
 "nbformat_minor": 2
}
